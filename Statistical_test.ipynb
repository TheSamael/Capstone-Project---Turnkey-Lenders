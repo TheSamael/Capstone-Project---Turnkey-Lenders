{
 "cells": [
  {
   "cell_type": "markdown",
   "id": "ce0952ab",
   "metadata": {},
   "source": [
    "### Loading in the necessary libraries"
   ]
  },
  {
   "cell_type": "code",
   "execution_count": 1,
   "id": "725034c3",
   "metadata": {},
   "outputs": [],
   "source": [
    "import pandas as pd\n",
    "import numpy as np\n",
    "import seaborn as sns\n",
    "import matplotlib.pyplot as plt\n",
    "from scipy import stats\n",
    "from scipy.stats import norm\n",
    "from scipy.stats import binom\n",
    "from scipy.stats import poisson\n",
    "from scipy.stats import ttest_ind\n",
    "from scipy.stats import f_oneway"
   ]
  },
  {
   "cell_type": "markdown",
   "id": "9c95449b",
   "metadata": {},
   "source": [
    "### Loading the Dataset for Analysis"
   ]
  },
  {
   "cell_type": "code",
   "execution_count": 2,
   "id": "ca9034b5",
   "metadata": {},
   "outputs": [
    {
     "data": {
      "text/html": [
       "<div>\n",
       "<style scoped>\n",
       "    .dataframe tbody tr th:only-of-type {\n",
       "        vertical-align: middle;\n",
       "    }\n",
       "\n",
       "    .dataframe tbody tr th {\n",
       "        vertical-align: top;\n",
       "    }\n",
       "\n",
       "    .dataframe thead th {\n",
       "        text-align: right;\n",
       "    }\n",
       "</style>\n",
       "<table border=\"1\" class=\"dataframe\">\n",
       "  <thead>\n",
       "    <tr style=\"text-align: right;\">\n",
       "      <th></th>\n",
       "      <th>ID</th>\n",
       "      <th>AMT</th>\n",
       "      <th>GENDER</th>\n",
       "      <th>EDUCATION</th>\n",
       "      <th>MARITAL_STATUS</th>\n",
       "      <th>AGE</th>\n",
       "      <th>REPAY_SEP</th>\n",
       "      <th>REPAY_AUG</th>\n",
       "      <th>REPAY_JUL</th>\n",
       "      <th>REPAY_JUN</th>\n",
       "      <th>REPAY_MAY</th>\n",
       "      <th>REPAY_APR</th>\n",
       "      <th>AMTBILL_SEP</th>\n",
       "      <th>AMTBILL_AUG</th>\n",
       "      <th>AMTBILL_JUL</th>\n",
       "      <th>AMTBILL_JUN</th>\n",
       "      <th>AMTBILL_MAY</th>\n",
       "      <th>AMTBILL_APR</th>\n",
       "      <th>PRE_SEP</th>\n",
       "      <th>PRE_AUG</th>\n",
       "      <th>PRE_JUL</th>\n",
       "      <th>PRE_JUN</th>\n",
       "      <th>PRE_MAY</th>\n",
       "      <th>PRE_APR</th>\n",
       "      <th>DEF_AMT</th>\n",
       "    </tr>\n",
       "  </thead>\n",
       "  <tbody>\n",
       "    <tr>\n",
       "      <th>0</th>\n",
       "      <td>1</td>\n",
       "      <td>20000.0</td>\n",
       "      <td>2</td>\n",
       "      <td>2.0</td>\n",
       "      <td>1</td>\n",
       "      <td>24</td>\n",
       "      <td>2</td>\n",
       "      <td>2</td>\n",
       "      <td>0</td>\n",
       "      <td>0</td>\n",
       "      <td>0</td>\n",
       "      <td>0</td>\n",
       "      <td>3913.0</td>\n",
       "      <td>3102.0</td>\n",
       "      <td>689.0</td>\n",
       "      <td>0.0</td>\n",
       "      <td>0.0</td>\n",
       "      <td>0.0</td>\n",
       "      <td>0.0</td>\n",
       "      <td>689.0</td>\n",
       "      <td>0.0</td>\n",
       "      <td>0.0</td>\n",
       "      <td>0.0</td>\n",
       "      <td>0.0</td>\n",
       "      <td>1</td>\n",
       "    </tr>\n",
       "    <tr>\n",
       "      <th>1</th>\n",
       "      <td>2</td>\n",
       "      <td>120000.0</td>\n",
       "      <td>2</td>\n",
       "      <td>2.0</td>\n",
       "      <td>2</td>\n",
       "      <td>26</td>\n",
       "      <td>0</td>\n",
       "      <td>2</td>\n",
       "      <td>0</td>\n",
       "      <td>0</td>\n",
       "      <td>0</td>\n",
       "      <td>2</td>\n",
       "      <td>2682.0</td>\n",
       "      <td>1725.0</td>\n",
       "      <td>2682.0</td>\n",
       "      <td>3272.0</td>\n",
       "      <td>3455.0</td>\n",
       "      <td>3261.0</td>\n",
       "      <td>0.0</td>\n",
       "      <td>1000.0</td>\n",
       "      <td>1000.0</td>\n",
       "      <td>1000.0</td>\n",
       "      <td>0.0</td>\n",
       "      <td>2000.0</td>\n",
       "      <td>1</td>\n",
       "    </tr>\n",
       "    <tr>\n",
       "      <th>2</th>\n",
       "      <td>3</td>\n",
       "      <td>90000.0</td>\n",
       "      <td>2</td>\n",
       "      <td>2.0</td>\n",
       "      <td>2</td>\n",
       "      <td>34</td>\n",
       "      <td>0</td>\n",
       "      <td>0</td>\n",
       "      <td>0</td>\n",
       "      <td>0</td>\n",
       "      <td>0</td>\n",
       "      <td>0</td>\n",
       "      <td>29239.0</td>\n",
       "      <td>14027.0</td>\n",
       "      <td>13559.0</td>\n",
       "      <td>14331.0</td>\n",
       "      <td>14948.0</td>\n",
       "      <td>15549.0</td>\n",
       "      <td>1518.0</td>\n",
       "      <td>1500.0</td>\n",
       "      <td>1000.0</td>\n",
       "      <td>1000.0</td>\n",
       "      <td>1000.0</td>\n",
       "      <td>5000.0</td>\n",
       "      <td>0</td>\n",
       "    </tr>\n",
       "    <tr>\n",
       "      <th>3</th>\n",
       "      <td>4</td>\n",
       "      <td>50000.0</td>\n",
       "      <td>2</td>\n",
       "      <td>2.0</td>\n",
       "      <td>1</td>\n",
       "      <td>37</td>\n",
       "      <td>0</td>\n",
       "      <td>0</td>\n",
       "      <td>0</td>\n",
       "      <td>0</td>\n",
       "      <td>0</td>\n",
       "      <td>0</td>\n",
       "      <td>46990.0</td>\n",
       "      <td>48233.0</td>\n",
       "      <td>49291.0</td>\n",
       "      <td>28314.0</td>\n",
       "      <td>28959.0</td>\n",
       "      <td>29547.0</td>\n",
       "      <td>2000.0</td>\n",
       "      <td>2019.0</td>\n",
       "      <td>1200.0</td>\n",
       "      <td>1100.0</td>\n",
       "      <td>1069.0</td>\n",
       "      <td>1000.0</td>\n",
       "      <td>0</td>\n",
       "    </tr>\n",
       "    <tr>\n",
       "      <th>4</th>\n",
       "      <td>5</td>\n",
       "      <td>50000.0</td>\n",
       "      <td>1</td>\n",
       "      <td>2.0</td>\n",
       "      <td>1</td>\n",
       "      <td>57</td>\n",
       "      <td>0</td>\n",
       "      <td>0</td>\n",
       "      <td>0</td>\n",
       "      <td>0</td>\n",
       "      <td>0</td>\n",
       "      <td>0</td>\n",
       "      <td>8617.0</td>\n",
       "      <td>5670.0</td>\n",
       "      <td>35835.0</td>\n",
       "      <td>20940.0</td>\n",
       "      <td>19146.0</td>\n",
       "      <td>19131.0</td>\n",
       "      <td>2000.0</td>\n",
       "      <td>36681.0</td>\n",
       "      <td>10000.0</td>\n",
       "      <td>9000.0</td>\n",
       "      <td>689.0</td>\n",
       "      <td>679.0</td>\n",
       "      <td>0</td>\n",
       "    </tr>\n",
       "    <tr>\n",
       "      <th>...</th>\n",
       "      <td>...</td>\n",
       "      <td>...</td>\n",
       "      <td>...</td>\n",
       "      <td>...</td>\n",
       "      <td>...</td>\n",
       "      <td>...</td>\n",
       "      <td>...</td>\n",
       "      <td>...</td>\n",
       "      <td>...</td>\n",
       "      <td>...</td>\n",
       "      <td>...</td>\n",
       "      <td>...</td>\n",
       "      <td>...</td>\n",
       "      <td>...</td>\n",
       "      <td>...</td>\n",
       "      <td>...</td>\n",
       "      <td>...</td>\n",
       "      <td>...</td>\n",
       "      <td>...</td>\n",
       "      <td>...</td>\n",
       "      <td>...</td>\n",
       "      <td>...</td>\n",
       "      <td>...</td>\n",
       "      <td>...</td>\n",
       "      <td>...</td>\n",
       "    </tr>\n",
       "    <tr>\n",
       "      <th>29995</th>\n",
       "      <td>29996</td>\n",
       "      <td>220000.0</td>\n",
       "      <td>1</td>\n",
       "      <td>3.0</td>\n",
       "      <td>1</td>\n",
       "      <td>39</td>\n",
       "      <td>0</td>\n",
       "      <td>0</td>\n",
       "      <td>0</td>\n",
       "      <td>0</td>\n",
       "      <td>0</td>\n",
       "      <td>0</td>\n",
       "      <td>188948.0</td>\n",
       "      <td>192815.0</td>\n",
       "      <td>208365.0</td>\n",
       "      <td>88004.0</td>\n",
       "      <td>31237.0</td>\n",
       "      <td>15980.0</td>\n",
       "      <td>8500.0</td>\n",
       "      <td>20000.0</td>\n",
       "      <td>5003.0</td>\n",
       "      <td>3047.0</td>\n",
       "      <td>5000.0</td>\n",
       "      <td>1000.0</td>\n",
       "      <td>0</td>\n",
       "    </tr>\n",
       "    <tr>\n",
       "      <th>29996</th>\n",
       "      <td>29997</td>\n",
       "      <td>150000.0</td>\n",
       "      <td>1</td>\n",
       "      <td>3.0</td>\n",
       "      <td>2</td>\n",
       "      <td>43</td>\n",
       "      <td>0</td>\n",
       "      <td>0</td>\n",
       "      <td>0</td>\n",
       "      <td>0</td>\n",
       "      <td>0</td>\n",
       "      <td>0</td>\n",
       "      <td>1683.0</td>\n",
       "      <td>1828.0</td>\n",
       "      <td>3502.0</td>\n",
       "      <td>8979.0</td>\n",
       "      <td>5190.0</td>\n",
       "      <td>0.0</td>\n",
       "      <td>1837.0</td>\n",
       "      <td>3526.0</td>\n",
       "      <td>8998.0</td>\n",
       "      <td>129.0</td>\n",
       "      <td>0.0</td>\n",
       "      <td>0.0</td>\n",
       "      <td>0</td>\n",
       "    </tr>\n",
       "    <tr>\n",
       "      <th>29997</th>\n",
       "      <td>29998</td>\n",
       "      <td>30000.0</td>\n",
       "      <td>1</td>\n",
       "      <td>2.0</td>\n",
       "      <td>2</td>\n",
       "      <td>37</td>\n",
       "      <td>4</td>\n",
       "      <td>3</td>\n",
       "      <td>2</td>\n",
       "      <td>0</td>\n",
       "      <td>0</td>\n",
       "      <td>0</td>\n",
       "      <td>3565.0</td>\n",
       "      <td>3356.0</td>\n",
       "      <td>2758.0</td>\n",
       "      <td>20878.0</td>\n",
       "      <td>20582.0</td>\n",
       "      <td>19357.0</td>\n",
       "      <td>0.0</td>\n",
       "      <td>0.0</td>\n",
       "      <td>22000.0</td>\n",
       "      <td>4200.0</td>\n",
       "      <td>2000.0</td>\n",
       "      <td>3100.0</td>\n",
       "      <td>1</td>\n",
       "    </tr>\n",
       "    <tr>\n",
       "      <th>29998</th>\n",
       "      <td>29999</td>\n",
       "      <td>80000.0</td>\n",
       "      <td>1</td>\n",
       "      <td>3.0</td>\n",
       "      <td>1</td>\n",
       "      <td>41</td>\n",
       "      <td>1</td>\n",
       "      <td>0</td>\n",
       "      <td>0</td>\n",
       "      <td>0</td>\n",
       "      <td>0</td>\n",
       "      <td>0</td>\n",
       "      <td>645.0</td>\n",
       "      <td>78379.0</td>\n",
       "      <td>76304.0</td>\n",
       "      <td>52774.0</td>\n",
       "      <td>11855.0</td>\n",
       "      <td>48944.0</td>\n",
       "      <td>85900.0</td>\n",
       "      <td>3409.0</td>\n",
       "      <td>1178.0</td>\n",
       "      <td>1926.0</td>\n",
       "      <td>52964.0</td>\n",
       "      <td>1804.0</td>\n",
       "      <td>1</td>\n",
       "    </tr>\n",
       "    <tr>\n",
       "      <th>29999</th>\n",
       "      <td>30000</td>\n",
       "      <td>50000.0</td>\n",
       "      <td>1</td>\n",
       "      <td>2.0</td>\n",
       "      <td>1</td>\n",
       "      <td>46</td>\n",
       "      <td>0</td>\n",
       "      <td>0</td>\n",
       "      <td>0</td>\n",
       "      <td>0</td>\n",
       "      <td>0</td>\n",
       "      <td>0</td>\n",
       "      <td>47929.0</td>\n",
       "      <td>48905.0</td>\n",
       "      <td>49764.0</td>\n",
       "      <td>36535.0</td>\n",
       "      <td>32428.0</td>\n",
       "      <td>15313.0</td>\n",
       "      <td>2078.0</td>\n",
       "      <td>1800.0</td>\n",
       "      <td>1430.0</td>\n",
       "      <td>1000.0</td>\n",
       "      <td>1000.0</td>\n",
       "      <td>1000.0</td>\n",
       "      <td>1</td>\n",
       "    </tr>\n",
       "  </tbody>\n",
       "</table>\n",
       "<p>30000 rows × 25 columns</p>\n",
       "</div>"
      ],
      "text/plain": [
       "          ID       AMT  GENDER  EDUCATION  MARITAL_STATUS  AGE  REPAY_SEP  \\\n",
       "0          1   20000.0       2        2.0               1   24          2   \n",
       "1          2  120000.0       2        2.0               2   26          0   \n",
       "2          3   90000.0       2        2.0               2   34          0   \n",
       "3          4   50000.0       2        2.0               1   37          0   \n",
       "4          5   50000.0       1        2.0               1   57          0   \n",
       "...      ...       ...     ...        ...             ...  ...        ...   \n",
       "29995  29996  220000.0       1        3.0               1   39          0   \n",
       "29996  29997  150000.0       1        3.0               2   43          0   \n",
       "29997  29998   30000.0       1        2.0               2   37          4   \n",
       "29998  29999   80000.0       1        3.0               1   41          1   \n",
       "29999  30000   50000.0       1        2.0               1   46          0   \n",
       "\n",
       "       REPAY_AUG  REPAY_JUL  REPAY_JUN  REPAY_MAY  REPAY_APR  AMTBILL_SEP  \\\n",
       "0              2          0          0          0          0       3913.0   \n",
       "1              2          0          0          0          2       2682.0   \n",
       "2              0          0          0          0          0      29239.0   \n",
       "3              0          0          0          0          0      46990.0   \n",
       "4              0          0          0          0          0       8617.0   \n",
       "...          ...        ...        ...        ...        ...          ...   \n",
       "29995          0          0          0          0          0     188948.0   \n",
       "29996          0          0          0          0          0       1683.0   \n",
       "29997          3          2          0          0          0       3565.0   \n",
       "29998          0          0          0          0          0        645.0   \n",
       "29999          0          0          0          0          0      47929.0   \n",
       "\n",
       "       AMTBILL_AUG  AMTBILL_JUL  AMTBILL_JUN  AMTBILL_MAY  AMTBILL_APR  \\\n",
       "0           3102.0        689.0          0.0          0.0          0.0   \n",
       "1           1725.0       2682.0       3272.0       3455.0       3261.0   \n",
       "2          14027.0      13559.0      14331.0      14948.0      15549.0   \n",
       "3          48233.0      49291.0      28314.0      28959.0      29547.0   \n",
       "4           5670.0      35835.0      20940.0      19146.0      19131.0   \n",
       "...            ...          ...          ...          ...          ...   \n",
       "29995     192815.0     208365.0      88004.0      31237.0      15980.0   \n",
       "29996       1828.0       3502.0       8979.0       5190.0          0.0   \n",
       "29997       3356.0       2758.0      20878.0      20582.0      19357.0   \n",
       "29998      78379.0      76304.0      52774.0      11855.0      48944.0   \n",
       "29999      48905.0      49764.0      36535.0      32428.0      15313.0   \n",
       "\n",
       "       PRE_SEP  PRE_AUG  PRE_JUL  PRE_JUN  PRE_MAY  PRE_APR  DEF_AMT  \n",
       "0          0.0    689.0      0.0      0.0      0.0      0.0        1  \n",
       "1          0.0   1000.0   1000.0   1000.0      0.0   2000.0        1  \n",
       "2       1518.0   1500.0   1000.0   1000.0   1000.0   5000.0        0  \n",
       "3       2000.0   2019.0   1200.0   1100.0   1069.0   1000.0        0  \n",
       "4       2000.0  36681.0  10000.0   9000.0    689.0    679.0        0  \n",
       "...        ...      ...      ...      ...      ...      ...      ...  \n",
       "29995   8500.0  20000.0   5003.0   3047.0   5000.0   1000.0        0  \n",
       "29996   1837.0   3526.0   8998.0    129.0      0.0      0.0        0  \n",
       "29997      0.0      0.0  22000.0   4200.0   2000.0   3100.0        1  \n",
       "29998  85900.0   3409.0   1178.0   1926.0  52964.0   1804.0        1  \n",
       "29999   2078.0   1800.0   1430.0   1000.0   1000.0   1000.0        1  \n",
       "\n",
       "[30000 rows x 25 columns]"
      ]
     },
     "execution_count": 2,
     "metadata": {},
     "output_type": "execute_result"
    }
   ],
   "source": [
    "df = pd.read_csv('Credit Dataset for HV Turnkey Lender.csv')\n",
    "\n",
    "#Making the preview of the dataset a complete set of all columns\n",
    "pd.set_option('display.max_columns', None)\n",
    "\n",
    "#Removing any addicational spaces which may make the analysis part difficult\n",
    "df.columns = df.columns.str.strip()\n",
    "\n",
    "#Renaming the column name so that analysis can be made easier\n",
    "df = df.rename(columns={'MARITAL STATUS': 'MARITAL_STATUS'})\n",
    "\n",
    "\n",
    "df"
   ]
  },
  {
   "cell_type": "code",
   "execution_count": 3,
   "id": "1ef0ffc4",
   "metadata": {},
   "outputs": [
    {
     "name": "stdout",
     "output_type": "stream",
     "text": [
      "<class 'pandas.core.frame.DataFrame'>\n",
      "RangeIndex: 30000 entries, 0 to 29999\n",
      "Data columns (total 25 columns):\n",
      " #   Column          Non-Null Count  Dtype  \n",
      "---  ------          --------------  -----  \n",
      " 0   ID              30000 non-null  int64  \n",
      " 1   AMT             30000 non-null  float64\n",
      " 2   GENDER          30000 non-null  int64  \n",
      " 3   EDUCATION       29986 non-null  float64\n",
      " 4   MARITAL_STATUS  30000 non-null  int64  \n",
      " 5   AGE             30000 non-null  int64  \n",
      " 6   REPAY_SEP       30000 non-null  int64  \n",
      " 7   REPAY_AUG       30000 non-null  int64  \n",
      " 8   REPAY_JUL       30000 non-null  int64  \n",
      " 9   REPAY_JUN       30000 non-null  int64  \n",
      " 10  REPAY_MAY       30000 non-null  int64  \n",
      " 11  REPAY_APR       30000 non-null  int64  \n",
      " 12  AMTBILL_SEP     30000 non-null  float64\n",
      " 13  AMTBILL_AUG     30000 non-null  float64\n",
      " 14  AMTBILL_JUL     30000 non-null  float64\n",
      " 15  AMTBILL_JUN     30000 non-null  float64\n",
      " 16  AMTBILL_MAY     30000 non-null  float64\n",
      " 17  AMTBILL_APR     30000 non-null  float64\n",
      " 18  PRE_SEP         30000 non-null  float64\n",
      " 19  PRE_AUG         30000 non-null  float64\n",
      " 20  PRE_JUL         30000 non-null  float64\n",
      " 21  PRE_JUN         30000 non-null  float64\n",
      " 22  PRE_MAY         30000 non-null  float64\n",
      " 23  PRE_APR         30000 non-null  float64\n",
      " 24  DEF_AMT         30000 non-null  int64  \n",
      "dtypes: float64(14), int64(11)\n",
      "memory usage: 5.7 MB\n"
     ]
    }
   ],
   "source": [
    "df.info()"
   ]
  },
  {
   "cell_type": "code",
   "execution_count": 4,
   "id": "530e7b12",
   "metadata": {},
   "outputs": [
    {
     "data": {
      "text/plain": [
       "ID                 0\n",
       "AMT                0\n",
       "GENDER             0\n",
       "EDUCATION         14\n",
       "MARITAL_STATUS     0\n",
       "AGE                0\n",
       "REPAY_SEP          0\n",
       "REPAY_AUG          0\n",
       "REPAY_JUL          0\n",
       "REPAY_JUN          0\n",
       "REPAY_MAY          0\n",
       "REPAY_APR          0\n",
       "AMTBILL_SEP        0\n",
       "AMTBILL_AUG        0\n",
       "AMTBILL_JUL        0\n",
       "AMTBILL_JUN        0\n",
       "AMTBILL_MAY        0\n",
       "AMTBILL_APR        0\n",
       "PRE_SEP            0\n",
       "PRE_AUG            0\n",
       "PRE_JUL            0\n",
       "PRE_JUN            0\n",
       "PRE_MAY            0\n",
       "PRE_APR            0\n",
       "DEF_AMT            0\n",
       "dtype: int64"
      ]
     },
     "execution_count": 4,
     "metadata": {},
     "output_type": "execute_result"
    }
   ],
   "source": [
    "df.isnull().sum()"
   ]
  },
  {
   "cell_type": "markdown",
   "id": "c514c1b7",
   "metadata": {},
   "source": [
    "##### Treating the missing values with mode as education is a categorical column."
   ]
  },
  {
   "cell_type": "code",
   "execution_count": 5,
   "id": "7d4ff483",
   "metadata": {
    "scrolled": true
   },
   "outputs": [
    {
     "data": {
      "text/plain": [
       "ID                0\n",
       "AMT               0\n",
       "GENDER            0\n",
       "EDUCATION         0\n",
       "MARITAL_STATUS    0\n",
       "AGE               0\n",
       "REPAY_SEP         0\n",
       "REPAY_AUG         0\n",
       "REPAY_JUL         0\n",
       "REPAY_JUN         0\n",
       "REPAY_MAY         0\n",
       "REPAY_APR         0\n",
       "AMTBILL_SEP       0\n",
       "AMTBILL_AUG       0\n",
       "AMTBILL_JUL       0\n",
       "AMTBILL_JUN       0\n",
       "AMTBILL_MAY       0\n",
       "AMTBILL_APR       0\n",
       "PRE_SEP           0\n",
       "PRE_AUG           0\n",
       "PRE_JUL           0\n",
       "PRE_JUN           0\n",
       "PRE_MAY           0\n",
       "PRE_APR           0\n",
       "DEF_AMT           0\n",
       "dtype: int64"
      ]
     },
     "execution_count": 5,
     "metadata": {},
     "output_type": "execute_result"
    }
   ],
   "source": [
    "df['EDUCATION'].fillna(df['EDUCATION'].mode().iloc[0], inplace=True)\n",
    "df.isnull().sum()"
   ]
  },
  {
   "cell_type": "code",
   "execution_count": 6,
   "id": "c991dd87",
   "metadata": {},
   "outputs": [
    {
     "data": {
      "text/html": [
       "<div>\n",
       "<style scoped>\n",
       "    .dataframe tbody tr th:only-of-type {\n",
       "        vertical-align: middle;\n",
       "    }\n",
       "\n",
       "    .dataframe tbody tr th {\n",
       "        vertical-align: top;\n",
       "    }\n",
       "\n",
       "    .dataframe thead th {\n",
       "        text-align: right;\n",
       "    }\n",
       "</style>\n",
       "<table border=\"1\" class=\"dataframe\">\n",
       "  <thead>\n",
       "    <tr style=\"text-align: right;\">\n",
       "      <th></th>\n",
       "      <th>AMT</th>\n",
       "      <th>AGE</th>\n",
       "      <th>PRE_SEP</th>\n",
       "      <th>PRE_AUG</th>\n",
       "      <th>PRE_JUL</th>\n",
       "      <th>PRE_JUN</th>\n",
       "      <th>PRE_MAY</th>\n",
       "      <th>PRE_APR</th>\n",
       "      <th>AMTBILL_SEP</th>\n",
       "      <th>AMTBILL_AUG</th>\n",
       "      <th>AMTBILL_JUL</th>\n",
       "      <th>AMTBILL_JUN</th>\n",
       "      <th>AMTBILL_MAY</th>\n",
       "      <th>AMTBILL_APR</th>\n",
       "    </tr>\n",
       "  </thead>\n",
       "  <tbody>\n",
       "    <tr>\n",
       "      <th>count</th>\n",
       "      <td>30000.000000</td>\n",
       "      <td>30000.000000</td>\n",
       "      <td>30000.000000</td>\n",
       "      <td>3.000000e+04</td>\n",
       "      <td>30000.00000</td>\n",
       "      <td>30000.000000</td>\n",
       "      <td>30000.000000</td>\n",
       "      <td>30000.000000</td>\n",
       "      <td>30000.000000</td>\n",
       "      <td>30000.000000</td>\n",
       "      <td>3.000000e+04</td>\n",
       "      <td>30000.000000</td>\n",
       "      <td>30000.000000</td>\n",
       "      <td>30000.000000</td>\n",
       "    </tr>\n",
       "    <tr>\n",
       "      <th>mean</th>\n",
       "      <td>167484.322667</td>\n",
       "      <td>35.485500</td>\n",
       "      <td>5663.580500</td>\n",
       "      <td>5.921163e+03</td>\n",
       "      <td>5225.68150</td>\n",
       "      <td>4826.076867</td>\n",
       "      <td>4799.387633</td>\n",
       "      <td>5215.502567</td>\n",
       "      <td>51245.526767</td>\n",
       "      <td>49194.349967</td>\n",
       "      <td>4.703570e+04</td>\n",
       "      <td>43287.066733</td>\n",
       "      <td>40327.549367</td>\n",
       "      <td>38907.530300</td>\n",
       "    </tr>\n",
       "    <tr>\n",
       "      <th>std</th>\n",
       "      <td>129747.661567</td>\n",
       "      <td>9.217904</td>\n",
       "      <td>16563.280354</td>\n",
       "      <td>2.304087e+04</td>\n",
       "      <td>17606.96147</td>\n",
       "      <td>15666.159744</td>\n",
       "      <td>15278.305679</td>\n",
       "      <td>17777.465775</td>\n",
       "      <td>73610.241847</td>\n",
       "      <td>71162.228069</td>\n",
       "      <td>6.932805e+04</td>\n",
       "      <td>64309.431029</td>\n",
       "      <td>60785.288413</td>\n",
       "      <td>59511.193927</td>\n",
       "    </tr>\n",
       "    <tr>\n",
       "      <th>min</th>\n",
       "      <td>10000.000000</td>\n",
       "      <td>21.000000</td>\n",
       "      <td>0.000000</td>\n",
       "      <td>0.000000e+00</td>\n",
       "      <td>0.00000</td>\n",
       "      <td>0.000000</td>\n",
       "      <td>0.000000</td>\n",
       "      <td>0.000000</td>\n",
       "      <td>-9802.000000</td>\n",
       "      <td>-69777.000000</td>\n",
       "      <td>-6.150600e+04</td>\n",
       "      <td>-81334.000000</td>\n",
       "      <td>-81334.000000</td>\n",
       "      <td>-339603.000000</td>\n",
       "    </tr>\n",
       "    <tr>\n",
       "      <th>25%</th>\n",
       "      <td>50000.000000</td>\n",
       "      <td>28.000000</td>\n",
       "      <td>1000.000000</td>\n",
       "      <td>8.330000e+02</td>\n",
       "      <td>390.00000</td>\n",
       "      <td>296.000000</td>\n",
       "      <td>252.500000</td>\n",
       "      <td>117.750000</td>\n",
       "      <td>3565.000000</td>\n",
       "      <td>2990.750000</td>\n",
       "      <td>2.684000e+03</td>\n",
       "      <td>2337.000000</td>\n",
       "      <td>1769.500000</td>\n",
       "      <td>1261.000000</td>\n",
       "    </tr>\n",
       "    <tr>\n",
       "      <th>50%</th>\n",
       "      <td>140000.000000</td>\n",
       "      <td>34.000000</td>\n",
       "      <td>2100.000000</td>\n",
       "      <td>2.009000e+03</td>\n",
       "      <td>1800.00000</td>\n",
       "      <td>1500.000000</td>\n",
       "      <td>1500.000000</td>\n",
       "      <td>1500.000000</td>\n",
       "      <td>22385.500000</td>\n",
       "      <td>21200.000000</td>\n",
       "      <td>2.008900e+04</td>\n",
       "      <td>19052.000000</td>\n",
       "      <td>18104.500000</td>\n",
       "      <td>17075.500000</td>\n",
       "    </tr>\n",
       "    <tr>\n",
       "      <th>75%</th>\n",
       "      <td>240000.000000</td>\n",
       "      <td>41.000000</td>\n",
       "      <td>5006.000000</td>\n",
       "      <td>5.000000e+03</td>\n",
       "      <td>4505.00000</td>\n",
       "      <td>4013.250000</td>\n",
       "      <td>4031.500000</td>\n",
       "      <td>4000.000000</td>\n",
       "      <td>67091.000000</td>\n",
       "      <td>64006.250000</td>\n",
       "      <td>6.016475e+04</td>\n",
       "      <td>54519.000000</td>\n",
       "      <td>50190.500000</td>\n",
       "      <td>49205.250000</td>\n",
       "    </tr>\n",
       "    <tr>\n",
       "      <th>max</th>\n",
       "      <td>1000000.000000</td>\n",
       "      <td>79.000000</td>\n",
       "      <td>873552.000000</td>\n",
       "      <td>1.684259e+06</td>\n",
       "      <td>896040.00000</td>\n",
       "      <td>621000.000000</td>\n",
       "      <td>426529.000000</td>\n",
       "      <td>528666.000000</td>\n",
       "      <td>964511.000000</td>\n",
       "      <td>983931.000000</td>\n",
       "      <td>1.664089e+06</td>\n",
       "      <td>891586.000000</td>\n",
       "      <td>927171.000000</td>\n",
       "      <td>961664.000000</td>\n",
       "    </tr>\n",
       "  </tbody>\n",
       "</table>\n",
       "</div>"
      ],
      "text/plain": [
       "                  AMT           AGE        PRE_SEP       PRE_AUG  \\\n",
       "count    30000.000000  30000.000000   30000.000000  3.000000e+04   \n",
       "mean    167484.322667     35.485500    5663.580500  5.921163e+03   \n",
       "std     129747.661567      9.217904   16563.280354  2.304087e+04   \n",
       "min      10000.000000     21.000000       0.000000  0.000000e+00   \n",
       "25%      50000.000000     28.000000    1000.000000  8.330000e+02   \n",
       "50%     140000.000000     34.000000    2100.000000  2.009000e+03   \n",
       "75%     240000.000000     41.000000    5006.000000  5.000000e+03   \n",
       "max    1000000.000000     79.000000  873552.000000  1.684259e+06   \n",
       "\n",
       "            PRE_JUL        PRE_JUN        PRE_MAY        PRE_APR  \\\n",
       "count   30000.00000   30000.000000   30000.000000   30000.000000   \n",
       "mean     5225.68150    4826.076867    4799.387633    5215.502567   \n",
       "std     17606.96147   15666.159744   15278.305679   17777.465775   \n",
       "min         0.00000       0.000000       0.000000       0.000000   \n",
       "25%       390.00000     296.000000     252.500000     117.750000   \n",
       "50%      1800.00000    1500.000000    1500.000000    1500.000000   \n",
       "75%      4505.00000    4013.250000    4031.500000    4000.000000   \n",
       "max    896040.00000  621000.000000  426529.000000  528666.000000   \n",
       "\n",
       "         AMTBILL_SEP    AMTBILL_AUG   AMTBILL_JUL    AMTBILL_JUN  \\\n",
       "count   30000.000000   30000.000000  3.000000e+04   30000.000000   \n",
       "mean    51245.526767   49194.349967  4.703570e+04   43287.066733   \n",
       "std     73610.241847   71162.228069  6.932805e+04   64309.431029   \n",
       "min     -9802.000000  -69777.000000 -6.150600e+04  -81334.000000   \n",
       "25%      3565.000000    2990.750000  2.684000e+03    2337.000000   \n",
       "50%     22385.500000   21200.000000  2.008900e+04   19052.000000   \n",
       "75%     67091.000000   64006.250000  6.016475e+04   54519.000000   \n",
       "max    964511.000000  983931.000000  1.664089e+06  891586.000000   \n",
       "\n",
       "         AMTBILL_MAY    AMTBILL_APR  \n",
       "count   30000.000000   30000.000000  \n",
       "mean    40327.549367   38907.530300  \n",
       "std     60785.288413   59511.193927  \n",
       "min    -81334.000000 -339603.000000  \n",
       "25%      1769.500000    1261.000000  \n",
       "50%     18104.500000   17075.500000  \n",
       "75%     50190.500000   49205.250000  \n",
       "max    927171.000000  961664.000000  "
      ]
     },
     "execution_count": 6,
     "metadata": {},
     "output_type": "execute_result"
    }
   ],
   "source": [
    "numerical_columns = ['AMT', 'AGE', 'PRE_SEP', 'PRE_AUG', 'PRE_JUL', 'PRE_JUN', 'PRE_MAY', 'PRE_APR', 'AMTBILL_SEP', 'AMTBILL_AUG', 'AMTBILL_JUL', 'AMTBILL_JUN', 'AMTBILL_MAY', 'AMTBILL_APR']\n",
    "df_numerical = df[numerical_columns]\n",
    "df_numerical.describe()"
   ]
  },
  {
   "cell_type": "markdown",
   "id": "5e16959a",
   "metadata": {},
   "source": [
    "#### Few insights:\n",
    "\n",
    "1. ***AMT (Amount of given credit):*** The minimum credit amount is 10,000, and the maximum is 1,000,000. The average credit amount is approximately 167,484. The standard deviation is quite high, indicating a significant variation in the credit amounts.\n",
    "\n",
    "2. ***AGE:*** The age of the customers ranges from 21 to 79 years, with an average age of approximately 35.5 years. The standard deviation suggests some dispersion in the age distribution.\n",
    "\n",
    "\n",
    "3. ***AMTBILL_SEP to AMTBILL_APR (Amount of bill statement):*** The mean and standard deviation values represent the average and variation in the amount of bill statements for the respective months. It's worth noting that the minimum value is negative, indicating credit balances in some cases."
   ]
  },
  {
   "cell_type": "code",
   "execution_count": null,
   "id": "51a34818",
   "metadata": {},
   "outputs": [],
   "source": []
  },
  {
   "cell_type": "markdown",
   "id": "f7220b64",
   "metadata": {},
   "source": [
    "### Making the dataset analysis ready"
   ]
  },
  {
   "cell_type": "code",
   "execution_count": 7,
   "id": "d69d36db",
   "metadata": {},
   "outputs": [
    {
     "data": {
      "text/plain": [
       "Index(['ID', 'AMT', 'GENDER', 'EDUCATION', 'MARITAL_STATUS', 'AGE',\n",
       "       'REPAY_SEP', 'REPAY_AUG', 'REPAY_JUL', 'REPAY_JUN', 'REPAY_MAY',\n",
       "       'REPAY_APR', 'AMTBILL_SEP', 'AMTBILL_AUG', 'AMTBILL_JUL', 'AMTBILL_JUN',\n",
       "       'AMTBILL_MAY', 'AMTBILL_APR', 'PRE_SEP', 'PRE_AUG', 'PRE_JUL',\n",
       "       'PRE_JUN', 'PRE_MAY', 'PRE_APR', 'DEF_AMT'],\n",
       "      dtype='object')"
      ]
     },
     "execution_count": 7,
     "metadata": {},
     "output_type": "execute_result"
    }
   ],
   "source": [
    "df.columns"
   ]
  },
  {
   "cell_type": "code",
   "execution_count": 8,
   "id": "3327d1d1",
   "metadata": {
    "scrolled": true
   },
   "outputs": [
    {
     "data": {
      "text/html": [
       "<div>\n",
       "<style scoped>\n",
       "    .dataframe tbody tr th:only-of-type {\n",
       "        vertical-align: middle;\n",
       "    }\n",
       "\n",
       "    .dataframe tbody tr th {\n",
       "        vertical-align: top;\n",
       "    }\n",
       "\n",
       "    .dataframe thead th {\n",
       "        text-align: right;\n",
       "    }\n",
       "</style>\n",
       "<table border=\"1\" class=\"dataframe\">\n",
       "  <thead>\n",
       "    <tr style=\"text-align: right;\">\n",
       "      <th></th>\n",
       "      <th>ID</th>\n",
       "      <th>AMT</th>\n",
       "      <th>GENDER</th>\n",
       "      <th>EDUCATION</th>\n",
       "      <th>MARITAL_STATUS</th>\n",
       "      <th>AGE</th>\n",
       "      <th>REPAY_SEP</th>\n",
       "      <th>REPAY_AUG</th>\n",
       "      <th>REPAY_JUL</th>\n",
       "      <th>REPAY_JUN</th>\n",
       "      <th>REPAY_MAY</th>\n",
       "      <th>REPAY_APR</th>\n",
       "      <th>AMTBILL_SEP</th>\n",
       "      <th>AMTBILL_AUG</th>\n",
       "      <th>AMTBILL_JUL</th>\n",
       "      <th>AMTBILL_JUN</th>\n",
       "      <th>AMTBILL_MAY</th>\n",
       "      <th>AMTBILL_APR</th>\n",
       "      <th>AMT_BILL</th>\n",
       "      <th>PRE_SEP</th>\n",
       "      <th>PRE_AUG</th>\n",
       "      <th>PRE_JUL</th>\n",
       "      <th>PRE_JUN</th>\n",
       "      <th>PRE_MAY</th>\n",
       "      <th>PRE_APR</th>\n",
       "      <th>PREV_PMT</th>\n",
       "      <th>DEF_AMT</th>\n",
       "    </tr>\n",
       "  </thead>\n",
       "  <tbody>\n",
       "    <tr>\n",
       "      <th>0</th>\n",
       "      <td>1</td>\n",
       "      <td>20000.0</td>\n",
       "      <td>2</td>\n",
       "      <td>2.0</td>\n",
       "      <td>1</td>\n",
       "      <td>24</td>\n",
       "      <td>2</td>\n",
       "      <td>2</td>\n",
       "      <td>0</td>\n",
       "      <td>0</td>\n",
       "      <td>0</td>\n",
       "      <td>0</td>\n",
       "      <td>3913.0</td>\n",
       "      <td>3102.0</td>\n",
       "      <td>689.0</td>\n",
       "      <td>0.0</td>\n",
       "      <td>0.0</td>\n",
       "      <td>0.0</td>\n",
       "      <td>7704.0</td>\n",
       "      <td>0.0</td>\n",
       "      <td>689.0</td>\n",
       "      <td>0.0</td>\n",
       "      <td>0.0</td>\n",
       "      <td>0.0</td>\n",
       "      <td>0.0</td>\n",
       "      <td>689.0</td>\n",
       "      <td>1</td>\n",
       "    </tr>\n",
       "    <tr>\n",
       "      <th>1</th>\n",
       "      <td>2</td>\n",
       "      <td>120000.0</td>\n",
       "      <td>2</td>\n",
       "      <td>2.0</td>\n",
       "      <td>2</td>\n",
       "      <td>26</td>\n",
       "      <td>0</td>\n",
       "      <td>2</td>\n",
       "      <td>0</td>\n",
       "      <td>0</td>\n",
       "      <td>0</td>\n",
       "      <td>2</td>\n",
       "      <td>2682.0</td>\n",
       "      <td>1725.0</td>\n",
       "      <td>2682.0</td>\n",
       "      <td>3272.0</td>\n",
       "      <td>3455.0</td>\n",
       "      <td>3261.0</td>\n",
       "      <td>17077.0</td>\n",
       "      <td>0.0</td>\n",
       "      <td>1000.0</td>\n",
       "      <td>1000.0</td>\n",
       "      <td>1000.0</td>\n",
       "      <td>0.0</td>\n",
       "      <td>2000.0</td>\n",
       "      <td>5000.0</td>\n",
       "      <td>1</td>\n",
       "    </tr>\n",
       "    <tr>\n",
       "      <th>2</th>\n",
       "      <td>3</td>\n",
       "      <td>90000.0</td>\n",
       "      <td>2</td>\n",
       "      <td>2.0</td>\n",
       "      <td>2</td>\n",
       "      <td>34</td>\n",
       "      <td>0</td>\n",
       "      <td>0</td>\n",
       "      <td>0</td>\n",
       "      <td>0</td>\n",
       "      <td>0</td>\n",
       "      <td>0</td>\n",
       "      <td>29239.0</td>\n",
       "      <td>14027.0</td>\n",
       "      <td>13559.0</td>\n",
       "      <td>14331.0</td>\n",
       "      <td>14948.0</td>\n",
       "      <td>15549.0</td>\n",
       "      <td>101653.0</td>\n",
       "      <td>1518.0</td>\n",
       "      <td>1500.0</td>\n",
       "      <td>1000.0</td>\n",
       "      <td>1000.0</td>\n",
       "      <td>1000.0</td>\n",
       "      <td>5000.0</td>\n",
       "      <td>11018.0</td>\n",
       "      <td>0</td>\n",
       "    </tr>\n",
       "    <tr>\n",
       "      <th>3</th>\n",
       "      <td>4</td>\n",
       "      <td>50000.0</td>\n",
       "      <td>2</td>\n",
       "      <td>2.0</td>\n",
       "      <td>1</td>\n",
       "      <td>37</td>\n",
       "      <td>0</td>\n",
       "      <td>0</td>\n",
       "      <td>0</td>\n",
       "      <td>0</td>\n",
       "      <td>0</td>\n",
       "      <td>0</td>\n",
       "      <td>46990.0</td>\n",
       "      <td>48233.0</td>\n",
       "      <td>49291.0</td>\n",
       "      <td>28314.0</td>\n",
       "      <td>28959.0</td>\n",
       "      <td>29547.0</td>\n",
       "      <td>231334.0</td>\n",
       "      <td>2000.0</td>\n",
       "      <td>2019.0</td>\n",
       "      <td>1200.0</td>\n",
       "      <td>1100.0</td>\n",
       "      <td>1069.0</td>\n",
       "      <td>1000.0</td>\n",
       "      <td>8388.0</td>\n",
       "      <td>0</td>\n",
       "    </tr>\n",
       "    <tr>\n",
       "      <th>4</th>\n",
       "      <td>5</td>\n",
       "      <td>50000.0</td>\n",
       "      <td>1</td>\n",
       "      <td>2.0</td>\n",
       "      <td>1</td>\n",
       "      <td>57</td>\n",
       "      <td>0</td>\n",
       "      <td>0</td>\n",
       "      <td>0</td>\n",
       "      <td>0</td>\n",
       "      <td>0</td>\n",
       "      <td>0</td>\n",
       "      <td>8617.0</td>\n",
       "      <td>5670.0</td>\n",
       "      <td>35835.0</td>\n",
       "      <td>20940.0</td>\n",
       "      <td>19146.0</td>\n",
       "      <td>19131.0</td>\n",
       "      <td>109339.0</td>\n",
       "      <td>2000.0</td>\n",
       "      <td>36681.0</td>\n",
       "      <td>10000.0</td>\n",
       "      <td>9000.0</td>\n",
       "      <td>689.0</td>\n",
       "      <td>679.0</td>\n",
       "      <td>59049.0</td>\n",
       "      <td>0</td>\n",
       "    </tr>\n",
       "    <tr>\n",
       "      <th>...</th>\n",
       "      <td>...</td>\n",
       "      <td>...</td>\n",
       "      <td>...</td>\n",
       "      <td>...</td>\n",
       "      <td>...</td>\n",
       "      <td>...</td>\n",
       "      <td>...</td>\n",
       "      <td>...</td>\n",
       "      <td>...</td>\n",
       "      <td>...</td>\n",
       "      <td>...</td>\n",
       "      <td>...</td>\n",
       "      <td>...</td>\n",
       "      <td>...</td>\n",
       "      <td>...</td>\n",
       "      <td>...</td>\n",
       "      <td>...</td>\n",
       "      <td>...</td>\n",
       "      <td>...</td>\n",
       "      <td>...</td>\n",
       "      <td>...</td>\n",
       "      <td>...</td>\n",
       "      <td>...</td>\n",
       "      <td>...</td>\n",
       "      <td>...</td>\n",
       "      <td>...</td>\n",
       "      <td>...</td>\n",
       "    </tr>\n",
       "    <tr>\n",
       "      <th>29995</th>\n",
       "      <td>29996</td>\n",
       "      <td>220000.0</td>\n",
       "      <td>1</td>\n",
       "      <td>3.0</td>\n",
       "      <td>1</td>\n",
       "      <td>39</td>\n",
       "      <td>0</td>\n",
       "      <td>0</td>\n",
       "      <td>0</td>\n",
       "      <td>0</td>\n",
       "      <td>0</td>\n",
       "      <td>0</td>\n",
       "      <td>188948.0</td>\n",
       "      <td>192815.0</td>\n",
       "      <td>208365.0</td>\n",
       "      <td>88004.0</td>\n",
       "      <td>31237.0</td>\n",
       "      <td>15980.0</td>\n",
       "      <td>725349.0</td>\n",
       "      <td>8500.0</td>\n",
       "      <td>20000.0</td>\n",
       "      <td>5003.0</td>\n",
       "      <td>3047.0</td>\n",
       "      <td>5000.0</td>\n",
       "      <td>1000.0</td>\n",
       "      <td>42550.0</td>\n",
       "      <td>0</td>\n",
       "    </tr>\n",
       "    <tr>\n",
       "      <th>29996</th>\n",
       "      <td>29997</td>\n",
       "      <td>150000.0</td>\n",
       "      <td>1</td>\n",
       "      <td>3.0</td>\n",
       "      <td>2</td>\n",
       "      <td>43</td>\n",
       "      <td>0</td>\n",
       "      <td>0</td>\n",
       "      <td>0</td>\n",
       "      <td>0</td>\n",
       "      <td>0</td>\n",
       "      <td>0</td>\n",
       "      <td>1683.0</td>\n",
       "      <td>1828.0</td>\n",
       "      <td>3502.0</td>\n",
       "      <td>8979.0</td>\n",
       "      <td>5190.0</td>\n",
       "      <td>0.0</td>\n",
       "      <td>21182.0</td>\n",
       "      <td>1837.0</td>\n",
       "      <td>3526.0</td>\n",
       "      <td>8998.0</td>\n",
       "      <td>129.0</td>\n",
       "      <td>0.0</td>\n",
       "      <td>0.0</td>\n",
       "      <td>14490.0</td>\n",
       "      <td>0</td>\n",
       "    </tr>\n",
       "    <tr>\n",
       "      <th>29997</th>\n",
       "      <td>29998</td>\n",
       "      <td>30000.0</td>\n",
       "      <td>1</td>\n",
       "      <td>2.0</td>\n",
       "      <td>2</td>\n",
       "      <td>37</td>\n",
       "      <td>4</td>\n",
       "      <td>3</td>\n",
       "      <td>2</td>\n",
       "      <td>0</td>\n",
       "      <td>0</td>\n",
       "      <td>0</td>\n",
       "      <td>3565.0</td>\n",
       "      <td>3356.0</td>\n",
       "      <td>2758.0</td>\n",
       "      <td>20878.0</td>\n",
       "      <td>20582.0</td>\n",
       "      <td>19357.0</td>\n",
       "      <td>70496.0</td>\n",
       "      <td>0.0</td>\n",
       "      <td>0.0</td>\n",
       "      <td>22000.0</td>\n",
       "      <td>4200.0</td>\n",
       "      <td>2000.0</td>\n",
       "      <td>3100.0</td>\n",
       "      <td>31300.0</td>\n",
       "      <td>1</td>\n",
       "    </tr>\n",
       "    <tr>\n",
       "      <th>29998</th>\n",
       "      <td>29999</td>\n",
       "      <td>80000.0</td>\n",
       "      <td>1</td>\n",
       "      <td>3.0</td>\n",
       "      <td>1</td>\n",
       "      <td>41</td>\n",
       "      <td>1</td>\n",
       "      <td>0</td>\n",
       "      <td>0</td>\n",
       "      <td>0</td>\n",
       "      <td>0</td>\n",
       "      <td>0</td>\n",
       "      <td>645.0</td>\n",
       "      <td>78379.0</td>\n",
       "      <td>76304.0</td>\n",
       "      <td>52774.0</td>\n",
       "      <td>11855.0</td>\n",
       "      <td>48944.0</td>\n",
       "      <td>268901.0</td>\n",
       "      <td>85900.0</td>\n",
       "      <td>3409.0</td>\n",
       "      <td>1178.0</td>\n",
       "      <td>1926.0</td>\n",
       "      <td>52964.0</td>\n",
       "      <td>1804.0</td>\n",
       "      <td>147181.0</td>\n",
       "      <td>1</td>\n",
       "    </tr>\n",
       "    <tr>\n",
       "      <th>29999</th>\n",
       "      <td>30000</td>\n",
       "      <td>50000.0</td>\n",
       "      <td>1</td>\n",
       "      <td>2.0</td>\n",
       "      <td>1</td>\n",
       "      <td>46</td>\n",
       "      <td>0</td>\n",
       "      <td>0</td>\n",
       "      <td>0</td>\n",
       "      <td>0</td>\n",
       "      <td>0</td>\n",
       "      <td>0</td>\n",
       "      <td>47929.0</td>\n",
       "      <td>48905.0</td>\n",
       "      <td>49764.0</td>\n",
       "      <td>36535.0</td>\n",
       "      <td>32428.0</td>\n",
       "      <td>15313.0</td>\n",
       "      <td>230874.0</td>\n",
       "      <td>2078.0</td>\n",
       "      <td>1800.0</td>\n",
       "      <td>1430.0</td>\n",
       "      <td>1000.0</td>\n",
       "      <td>1000.0</td>\n",
       "      <td>1000.0</td>\n",
       "      <td>8308.0</td>\n",
       "      <td>1</td>\n",
       "    </tr>\n",
       "  </tbody>\n",
       "</table>\n",
       "<p>30000 rows × 27 columns</p>\n",
       "</div>"
      ],
      "text/plain": [
       "          ID       AMT  GENDER  EDUCATION  MARITAL_STATUS  AGE  REPAY_SEP  \\\n",
       "0          1   20000.0       2        2.0               1   24          2   \n",
       "1          2  120000.0       2        2.0               2   26          0   \n",
       "2          3   90000.0       2        2.0               2   34          0   \n",
       "3          4   50000.0       2        2.0               1   37          0   \n",
       "4          5   50000.0       1        2.0               1   57          0   \n",
       "...      ...       ...     ...        ...             ...  ...        ...   \n",
       "29995  29996  220000.0       1        3.0               1   39          0   \n",
       "29996  29997  150000.0       1        3.0               2   43          0   \n",
       "29997  29998   30000.0       1        2.0               2   37          4   \n",
       "29998  29999   80000.0       1        3.0               1   41          1   \n",
       "29999  30000   50000.0       1        2.0               1   46          0   \n",
       "\n",
       "       REPAY_AUG  REPAY_JUL  REPAY_JUN  REPAY_MAY  REPAY_APR  AMTBILL_SEP  \\\n",
       "0              2          0          0          0          0       3913.0   \n",
       "1              2          0          0          0          2       2682.0   \n",
       "2              0          0          0          0          0      29239.0   \n",
       "3              0          0          0          0          0      46990.0   \n",
       "4              0          0          0          0          0       8617.0   \n",
       "...          ...        ...        ...        ...        ...          ...   \n",
       "29995          0          0          0          0          0     188948.0   \n",
       "29996          0          0          0          0          0       1683.0   \n",
       "29997          3          2          0          0          0       3565.0   \n",
       "29998          0          0          0          0          0        645.0   \n",
       "29999          0          0          0          0          0      47929.0   \n",
       "\n",
       "       AMTBILL_AUG  AMTBILL_JUL  AMTBILL_JUN  AMTBILL_MAY  AMTBILL_APR  \\\n",
       "0           3102.0        689.0          0.0          0.0          0.0   \n",
       "1           1725.0       2682.0       3272.0       3455.0       3261.0   \n",
       "2          14027.0      13559.0      14331.0      14948.0      15549.0   \n",
       "3          48233.0      49291.0      28314.0      28959.0      29547.0   \n",
       "4           5670.0      35835.0      20940.0      19146.0      19131.0   \n",
       "...            ...          ...          ...          ...          ...   \n",
       "29995     192815.0     208365.0      88004.0      31237.0      15980.0   \n",
       "29996       1828.0       3502.0       8979.0       5190.0          0.0   \n",
       "29997       3356.0       2758.0      20878.0      20582.0      19357.0   \n",
       "29998      78379.0      76304.0      52774.0      11855.0      48944.0   \n",
       "29999      48905.0      49764.0      36535.0      32428.0      15313.0   \n",
       "\n",
       "       AMT_BILL  PRE_SEP  PRE_AUG  PRE_JUL  PRE_JUN  PRE_MAY  PRE_APR  \\\n",
       "0        7704.0      0.0    689.0      0.0      0.0      0.0      0.0   \n",
       "1       17077.0      0.0   1000.0   1000.0   1000.0      0.0   2000.0   \n",
       "2      101653.0   1518.0   1500.0   1000.0   1000.0   1000.0   5000.0   \n",
       "3      231334.0   2000.0   2019.0   1200.0   1100.0   1069.0   1000.0   \n",
       "4      109339.0   2000.0  36681.0  10000.0   9000.0    689.0    679.0   \n",
       "...         ...      ...      ...      ...      ...      ...      ...   \n",
       "29995  725349.0   8500.0  20000.0   5003.0   3047.0   5000.0   1000.0   \n",
       "29996   21182.0   1837.0   3526.0   8998.0    129.0      0.0      0.0   \n",
       "29997   70496.0      0.0      0.0  22000.0   4200.0   2000.0   3100.0   \n",
       "29998  268901.0  85900.0   3409.0   1178.0   1926.0  52964.0   1804.0   \n",
       "29999  230874.0   2078.0   1800.0   1430.0   1000.0   1000.0   1000.0   \n",
       "\n",
       "       PREV_PMT  DEF_AMT  \n",
       "0         689.0        1  \n",
       "1        5000.0        1  \n",
       "2       11018.0        0  \n",
       "3        8388.0        0  \n",
       "4       59049.0        0  \n",
       "...         ...      ...  \n",
       "29995   42550.0        0  \n",
       "29996   14490.0        0  \n",
       "29997   31300.0        1  \n",
       "29998  147181.0        1  \n",
       "29999    8308.0        1  \n",
       "\n",
       "[30000 rows x 27 columns]"
      ]
     },
     "execution_count": 8,
     "metadata": {},
     "output_type": "execute_result"
    }
   ],
   "source": [
    "# Create the new column AMT_BILL\n",
    "df['AMT_BILL'] = df[['AMTBILL_SEP', 'AMTBILL_AUG', 'AMTBILL_JUL', 'AMTBILL_JUN', 'AMTBILL_MAY', 'AMTBILL_APR']].sum(axis=1)\n",
    "\n",
    "# Create the new column PREV_PMT\n",
    "df['PREV_PMT'] = df[['PRE_SEP', 'PRE_AUG', 'PRE_JUL', 'PRE_JUN', 'PRE_MAY', 'PRE_APR']].sum(axis=1)\n",
    "\n",
    "# Create the new column REPAY\n",
    "df['REPAY'] = df[['REPAY_SEP', 'REPAY_AUG', 'REPAY_JUL', 'REPAY_JUN', 'REPAY_MAY',\n",
    "       'REPAY_APR']].sum(axis=1)\n",
    "\n",
    "# Reorder the columns to place the new columns next to the respective columns\n",
    "df = df[['ID', 'AMT', 'GENDER', 'EDUCATION', 'MARITAL_STATUS', 'AGE',\n",
    "       'REPAY_SEP', 'REPAY_AUG', 'REPAY_JUL', 'REPAY_JUN', 'REPAY_MAY',\n",
    "       'REPAY_APR', 'AMTBILL_SEP', 'AMTBILL_AUG', 'AMTBILL_JUL', 'AMTBILL_JUN',\n",
    "       'AMTBILL_MAY', 'AMTBILL_APR', 'AMT_BILL', 'PRE_SEP', 'PRE_AUG', 'PRE_JUL',\n",
    "       'PRE_JUN', 'PRE_MAY', 'PRE_APR', 'PREV_PMT', 'DEF_AMT']]\n",
    "\n",
    "df"
   ]
  },
  {
   "cell_type": "code",
   "execution_count": 9,
   "id": "66375348",
   "metadata": {
    "scrolled": true
   },
   "outputs": [
    {
     "name": "stderr",
     "output_type": "stream",
     "text": [
      "C:\\Users\\catie\\AppData\\Local\\Temp\\ipykernel_31204\\2323562331.py:1: SettingWithCopyWarning: \n",
      "A value is trying to be set on a copy of a slice from a DataFrame.\n",
      "Try using .loc[row_indexer,col_indexer] = value instead\n",
      "\n",
      "See the caveats in the documentation: https://pandas.pydata.org/pandas-docs/stable/user_guide/indexing.html#returning-a-view-versus-a-copy\n",
      "  df['EDUCATION'] = df['EDUCATION'].astype(int)\n"
     ]
    }
   ],
   "source": [
    "df['EDUCATION'] = df['EDUCATION'].astype(int)"
   ]
  },
  {
   "cell_type": "code",
   "execution_count": null,
   "id": "a439c4ab",
   "metadata": {},
   "outputs": [],
   "source": []
  },
  {
   "cell_type": "code",
   "execution_count": null,
   "id": "75da681a",
   "metadata": {},
   "outputs": [],
   "source": []
  },
  {
   "cell_type": "code",
   "execution_count": null,
   "id": "ff176e05",
   "metadata": {},
   "outputs": [],
   "source": []
  },
  {
   "cell_type": "markdown",
   "id": "72b1ab5c",
   "metadata": {},
   "source": [
    "## Task: Use probability distributions such as the normal, poisson, and binomial distributions to model the data. You can use libraries such as scipy.stats to model the data."
   ]
  },
  {
   "cell_type": "code",
   "execution_count": null,
   "id": "0027b0a3",
   "metadata": {},
   "outputs": [],
   "source": []
  },
  {
   "cell_type": "markdown",
   "id": "d0405186",
   "metadata": {},
   "source": [
    "#### Using the QQ plot to see if the data available falls either on the straight line indicating following the distribution comparing quantiles of the data with quantiles of the theoritical distribution"
   ]
  },
  {
   "cell_type": "code",
   "execution_count": 10,
   "id": "b02bbb4c",
   "metadata": {},
   "outputs": [
    {
     "data": {
      "image/png": "[encoded data removed]",
      "text/plain": [
       "<Figure size 640x480 with 1 Axes>"
      ]
     },
     "metadata": {},
     "output_type": "display_data"
    }
   ],
   "source": [
    "# Select the 'AGE' column from the DataFrame\n",
    "\n",
    "data = df['AGE']\n",
    "\n",
    "# Create a Q-Q plot\n",
    "fig, ax = plt.subplots()\n",
    "stats.probplot(data, dist='norm', plot=ax)\n",
    "\n",
    "# Set the title and labels\n",
    "ax.set_title('Q-Q Plot for AGE (Norm)')\n",
    "ax.set_xlabel('Theoretical Quantiles')\n",
    "ax.set_ylabel('Sample Quantiles')\n",
    "\n",
    "# Show the plot\n",
    "plt.show()"
   ]
  },
  {
   "cell_type": "code",
   "execution_count": 11,
   "id": "ad448f8e",
   "metadata": {
    "scrolled": true
   },
   "outputs": [
    {
     "data": {
      "image/png": "[encoded data removed]",
      "text/plain": [
       "<Figure size 640x480 with 1 Axes>"
      ]
     },
     "metadata": {},
     "output_type": "display_data"
    }
   ],
   "source": [
    "# Create a Q-Q plot for the 'AGE' column\n",
    "\n",
    "fig, ax = plt.subplots()\n",
    "stats.probplot(df['AGE'], dist='poisson', sparams=(df['AGE'].mean()), plot=ax)\n",
    "\n",
    "# Set the title and labels\n",
    "ax.set_title('Q-Q Plot for AGE (Poisson)')\n",
    "ax.set_xlabel('Theoretical Quantiles')\n",
    "ax.set_ylabel('Sample Quantiles')\n",
    "\n",
    "# Show the plot\n",
    "plt.show()"
   ]
  },
  {
   "cell_type": "code",
   "execution_count": 12,
   "id": "ef0b4b8c",
   "metadata": {
    "scrolled": true
   },
   "outputs": [
    {
     "data": {
      "image/png": "[encoded data removed]",
      "text/plain": [
       "<Figure size 640x480 with 1 Axes>"
      ]
     },
     "metadata": {},
     "output_type": "display_data"
    }
   ],
   "source": [
    "fig, ax = plt.subplots()\n",
    "n = len(df['AGE'])\n",
    "p = df['AGE'].mean() / df['AGE'].max()  # Adjust the value of p according to your dataset\n",
    "stats.probplot(df['AGE'], dist='binom', sparams=(n, p), plot=ax)\n",
    "\n",
    "# Set the title and labels\n",
    "ax.set_title('Q-Q Plot for AGE (Binom)')\n",
    "ax.set_xlabel('Theoretical Quantiles')\n",
    "ax.set_ylabel('Sample Quantiles')\n",
    "\n",
    "# Show the plot\n",
    "plt.show()"
   ]
  },
  {
   "cell_type": "markdown",
   "id": "ba4d4a10",
   "metadata": {},
   "source": [
    "#### It can be observed that a poisson distribution fits the Age data of our customers."
   ]
  },
  {
   "cell_type": "code",
   "execution_count": null,
   "id": "f6ffed6c",
   "metadata": {},
   "outputs": [],
   "source": []
  },
  {
   "cell_type": "code",
   "execution_count": null,
   "id": "88ea3ef5",
   "metadata": {},
   "outputs": [],
   "source": []
  },
  {
   "cell_type": "code",
   "execution_count": null,
   "id": "245598bc",
   "metadata": {},
   "outputs": [],
   "source": []
  },
  {
   "cell_type": "code",
   "execution_count": 13,
   "id": "eccc89b2",
   "metadata": {},
   "outputs": [
    {
     "data": {
      "text/plain": [
       "Index(['ID', 'AMT', 'GENDER', 'EDUCATION', 'MARITAL_STATUS', 'AGE',\n",
       "       'REPAY_SEP', 'REPAY_AUG', 'REPAY_JUL', 'REPAY_JUN', 'REPAY_MAY',\n",
       "       'REPAY_APR', 'AMTBILL_SEP', 'AMTBILL_AUG', 'AMTBILL_JUL', 'AMTBILL_JUN',\n",
       "       'AMTBILL_MAY', 'AMTBILL_APR', 'AMT_BILL', 'PRE_SEP', 'PRE_AUG',\n",
       "       'PRE_JUL', 'PRE_JUN', 'PRE_MAY', 'PRE_APR', 'PREV_PMT', 'DEF_AMT'],\n",
       "      dtype='object')"
      ]
     },
     "execution_count": 13,
     "metadata": {},
     "output_type": "execute_result"
    }
   ],
   "source": [
    "df.columns"
   ]
  },
  {
   "cell_type": "code",
   "execution_count": 14,
   "id": "cfb118b5",
   "metadata": {
    "scrolled": true
   },
   "outputs": [
    {
     "data": {
      "image/png": "[encoded data removed]",
      "text/plain": [
       "<Figure size 640x480 with 1 Axes>"
      ]
     },
     "metadata": {},
     "output_type": "display_data"
    }
   ],
   "source": [
    "# Select the 'PREV_PMT' column from the DataFrame\n",
    "data = df['PREV_PMT']\n",
    "\n",
    "# Create a Q-Q plot\n",
    "fig, ax = plt.subplots()\n",
    "stats.probplot(data, dist='norm', plot=ax)\n",
    "\n",
    "# Set the title and labels\n",
    "ax.set_title('Q-Q Plot for PREV_PMT (Norm)')\n",
    "ax.set_xlabel('Theoretical Quantiles')\n",
    "ax.set_ylabel('Sample Quantiles')\n",
    "\n",
    "# Show the plot\n",
    "plt.show()"
   ]
  },
  {
   "cell_type": "code",
   "execution_count": 15,
   "id": "35b9b445",
   "metadata": {},
   "outputs": [
    {
     "data": {
      "image/png": "[encoded data removed]",
      "text/plain": [
       "<Figure size 640x480 with 1 Axes>"
      ]
     },
     "metadata": {},
     "output_type": "display_data"
    }
   ],
   "source": [
    "# Create a Q-Q plot for the 'PREV_PMT' column\n",
    "\n",
    "fig, ax = plt.subplots()\n",
    "stats.probplot(df['PREV_PMT'], dist='poisson', sparams=(df['PREV_PMT'].mean()), plot=ax)\n",
    "\n",
    "# Set the title and labels\n",
    "ax.set_title('Q-Q Plot for PREV_PMT (Poisson)')\n",
    "ax.set_xlabel('Theoretical Quantiles')\n",
    "ax.set_ylabel('Sample Quantiles')\n",
    "\n",
    "# Show the plot\n",
    "plt.show()"
   ]
  },
  {
   "cell_type": "code",
   "execution_count": 16,
   "id": "8836995a",
   "metadata": {},
   "outputs": [
    {
     "data": {
      "image/png": "[encoded data removed]",
      "text/plain": [
       "<Figure size 640x480 with 1 Axes>"
      ]
     },
     "metadata": {},
     "output_type": "display_data"
    }
   ],
   "source": [
    "fig, ax = plt.subplots()\n",
    "n = len(df['PREV_PMT'])\n",
    "p = df['PREV_PMT'].mean() / df['PREV_PMT'].max()  # Adjust the value of p according to your dataset\n",
    "stats.probplot(df['PREV_PMT'], dist='binom', sparams=(n, p), plot=ax)\n",
    "\n",
    "# Set the title and labels\n",
    "ax.set_title('Q-Q Plot for PREV_PMT (Binom)')\n",
    "ax.set_xlabel('Theoretical Quantiles')\n",
    "ax.set_ylabel('Sample Quantiles')\n",
    "\n",
    "# Show the plot\n",
    "plt.show()"
   ]
  },
  {
   "cell_type": "code",
   "execution_count": 17,
   "id": "e232c0a9",
   "metadata": {
    "scrolled": true
   },
   "outputs": [
    {
     "data": {
      "text/plain": [
       "Index(['ID', 'AMT', 'GENDER', 'EDUCATION', 'MARITAL_STATUS', 'AGE',\n",
       "       'REPAY_SEP', 'REPAY_AUG', 'REPAY_JUL', 'REPAY_JUN', 'REPAY_MAY',\n",
       "       'REPAY_APR', 'AMTBILL_SEP', 'AMTBILL_AUG', 'AMTBILL_JUL', 'AMTBILL_JUN',\n",
       "       'AMTBILL_MAY', 'AMTBILL_APR', 'AMT_BILL', 'PRE_SEP', 'PRE_AUG',\n",
       "       'PRE_JUL', 'PRE_JUN', 'PRE_MAY', 'PRE_APR', 'PREV_PMT', 'DEF_AMT'],\n",
       "      dtype='object')"
      ]
     },
     "execution_count": 17,
     "metadata": {},
     "output_type": "execute_result"
    }
   ],
   "source": [
    "df.columns"
   ]
  },
  {
   "cell_type": "code",
   "execution_count": null,
   "id": "e599e34a",
   "metadata": {},
   "outputs": [],
   "source": []
  },
  {
   "cell_type": "code",
   "execution_count": null,
   "id": "9c47b215",
   "metadata": {},
   "outputs": [],
   "source": []
  },
  {
   "cell_type": "code",
   "execution_count": null,
   "id": "f684d0d2",
   "metadata": {},
   "outputs": [],
   "source": []
  },
  {
   "cell_type": "markdown",
   "id": "19e07a7c",
   "metadata": {},
   "source": [
    "### Confidence Interval for the Mean"
   ]
  },
  {
   "cell_type": "markdown",
   "id": "669fcf43",
   "metadata": {},
   "source": [
    "#### Amount of bill statement"
   ]
  },
  {
   "cell_type": "code",
   "execution_count": 18,
   "id": "5bcade5a",
   "metadata": {},
   "outputs": [
    {
     "name": "stderr",
     "output_type": "stream",
     "text": [
      "C:\\Users\\catie\\anaconda3\\lib\\site-packages\\numpy\\core\\fromnumeric.py:3430: FutureWarning: In a future version, DataFrame.mean(axis=None) will return a scalar mean over the entire DataFrame. To retain the old behavior, use 'frame.mean(axis=0)' or just 'frame.mean()'\n",
      "  return mean(axis=axis, dtype=dtype, out=out, **kwargs)\n"
     ]
    }
   ],
   "source": [
    "data = df[['AMTBILL_SEP', 'AMTBILL_AUG', 'AMTBILL_JUL', 'AMTBILL_JUN', 'AMTBILL_MAY', 'AMTBILL_APR']]  \n",
    "sample_mean = np.mean(data)\n",
    "sample_std = np.std(data, ddof=1)"
   ]
  },
  {
   "cell_type": "code",
   "execution_count": 19,
   "id": "a7e753d7",
   "metadata": {},
   "outputs": [],
   "source": [
    "#Defining the confidence level\n",
    "confidence_level = 0.95 "
   ]
  },
  {
   "cell_type": "code",
   "execution_count": 20,
   "id": "7ae42baf",
   "metadata": {},
   "outputs": [],
   "source": [
    "#Determining the critical value based on the sample size\n",
    "n = len(data)\n",
    "\n",
    "#Using z-distribution as sample size is > 30\n",
    "critical_value = stats.norm.ppf(1 - (1 - confidence_level) / 2)"
   ]
  },
  {
   "cell_type": "code",
   "execution_count": 21,
   "id": "7a90498c",
   "metadata": {},
   "outputs": [],
   "source": [
    "#Calculating the margin of error\n",
    "margin_of_error = critical_value * (sample_std / np.sqrt(n))"
   ]
  },
  {
   "cell_type": "code",
   "execution_count": 22,
   "id": "10e9130b",
   "metadata": {},
   "outputs": [
    {
     "data": {
      "text/plain": [
       "(AMTBILL_SEP    50412.563771\n",
       " AMTBILL_AUG    48389.088346\n",
       " AMTBILL_JUL    46251.192487\n",
       " AMTBILL_JUN    42559.350386\n",
       " AMTBILL_MAY    39639.711715\n",
       " AMTBILL_APR    38234.110119\n",
       " dtype: float64,\n",
       " AMTBILL_SEP    52078.489762\n",
       " AMTBILL_AUG    49999.611588\n",
       " AMTBILL_JUL    47820.205246\n",
       " AMTBILL_JUN    44014.783081\n",
       " AMTBILL_MAY    41015.387019\n",
       " AMTBILL_APR    39580.950481\n",
       " dtype: float64)"
      ]
     },
     "execution_count": 22,
     "metadata": {},
     "output_type": "execute_result"
    }
   ],
   "source": [
    "#Constructing the confidence interval\n",
    "confidence_interval = (sample_mean - margin_of_error, sample_mean + margin_of_error)\n",
    "\n",
    "confidence_interval"
   ]
  },
  {
   "cell_type": "code",
   "execution_count": null,
   "id": "f7599700",
   "metadata": {},
   "outputs": [],
   "source": []
  },
  {
   "cell_type": "code",
   "execution_count": null,
   "id": "5b4bfb93",
   "metadata": {},
   "outputs": [],
   "source": []
  },
  {
   "cell_type": "code",
   "execution_count": null,
   "id": "9260be9c",
   "metadata": {},
   "outputs": [],
   "source": []
  },
  {
   "cell_type": "markdown",
   "id": "8ab94e11",
   "metadata": {},
   "source": [
    "#### Amount of previous payment"
   ]
  },
  {
   "cell_type": "code",
   "execution_count": 23,
   "id": "c863d283",
   "metadata": {},
   "outputs": [
    {
     "name": "stderr",
     "output_type": "stream",
     "text": [
      "C:\\Users\\catie\\anaconda3\\lib\\site-packages\\numpy\\core\\fromnumeric.py:3430: FutureWarning: In a future version, DataFrame.mean(axis=None) will return a scalar mean over the entire DataFrame. To retain the old behavior, use 'frame.mean(axis=0)' or just 'frame.mean()'\n",
      "  return mean(axis=axis, dtype=dtype, out=out, **kwargs)\n"
     ]
    }
   ],
   "source": [
    "data = df[['PRE_SEP', 'PRE_AUG', 'PRE_JUL', 'PRE_JUN', 'PRE_MAY', 'PRE_APR']]\n",
    "sample_mean = np.mean(data)\n",
    "sample_std = np.std(data, ddof=1)"
   ]
  },
  {
   "cell_type": "code",
   "execution_count": 24,
   "id": "46192f54",
   "metadata": {},
   "outputs": [],
   "source": [
    "#Defining the confidence level\n",
    "confidence_level = 0.95 "
   ]
  },
  {
   "cell_type": "code",
   "execution_count": 25,
   "id": "b03d05fe",
   "metadata": {},
   "outputs": [],
   "source": [
    "#Determining the critical value based on the sample size\n",
    "n = len(data)\n",
    "\n",
    "#Using z-distribution as sample size is > 30\n",
    "critical_value = stats.norm.ppf(1 - (1 - confidence_level) / 2)"
   ]
  },
  {
   "cell_type": "code",
   "execution_count": 26,
   "id": "032c1371",
   "metadata": {},
   "outputs": [],
   "source": [
    "#Calculating the margin of error\n",
    "margin_of_error = critical_value * (sample_std / np.sqrt(n))"
   ]
  },
  {
   "cell_type": "code",
   "execution_count": 27,
   "id": "c0b4107a",
   "metadata": {},
   "outputs": [
    {
     "data": {
      "text/plain": [
       "(PRE_SEP    5476.152782\n",
       " PRE_AUG    5660.436298\n",
       " PRE_JUL    5026.443636\n",
       " PRE_JUN    4648.800838\n",
       " PRE_MAY    4626.500506\n",
       " PRE_APR    5014.335300\n",
       " dtype: float64,\n",
       " PRE_SEP    5851.008218\n",
       " PRE_AUG    6181.890702\n",
       " PRE_JUL    5424.919364\n",
       " PRE_JUN    5003.352895\n",
       " PRE_MAY    4972.274761\n",
       " PRE_APR    5416.669833\n",
       " dtype: float64)"
      ]
     },
     "execution_count": 27,
     "metadata": {},
     "output_type": "execute_result"
    }
   ],
   "source": [
    "#Constructing the confidence interval\n",
    "confidence_interval = (sample_mean - margin_of_error, sample_mean + margin_of_error)\n",
    "\n",
    "confidence_interval"
   ]
  },
  {
   "cell_type": "code",
   "execution_count": null,
   "id": "aca00f48",
   "metadata": {},
   "outputs": [],
   "source": []
  },
  {
   "cell_type": "code",
   "execution_count": null,
   "id": "89f0c6b8",
   "metadata": {},
   "outputs": [],
   "source": []
  },
  {
   "cell_type": "code",
   "execution_count": null,
   "id": "3310e2e7",
   "metadata": {},
   "outputs": [],
   "source": []
  },
  {
   "cell_type": "markdown",
   "id": "1af3d23e",
   "metadata": {},
   "source": [
    "#### Amount of given credit in dollars"
   ]
  },
  {
   "cell_type": "code",
   "execution_count": 28,
   "id": "04970676",
   "metadata": {},
   "outputs": [],
   "source": [
    "data = df['AMT']\n",
    "sample_mean = np.mean(data)\n",
    "sample_std = np.std(data, ddof=1)"
   ]
  },
  {
   "cell_type": "code",
   "execution_count": 29,
   "id": "fc4e833b",
   "metadata": {},
   "outputs": [],
   "source": [
    "#Defining the confidence level\n",
    "confidence_level = 0.95 "
   ]
  },
  {
   "cell_type": "code",
   "execution_count": 30,
   "id": "051c0f92",
   "metadata": {},
   "outputs": [],
   "source": [
    "#Determining the critical value based on the sample size\n",
    "n = len(data)\n",
    "\n",
    "#Using z-distribution as sample size is > 30\n",
    "critical_value = stats.norm.ppf(1 - (1 - confidence_level) / 2)"
   ]
  },
  {
   "cell_type": "code",
   "execution_count": 31,
   "id": "22834e81",
   "metadata": {},
   "outputs": [],
   "source": [
    "#Calculating the margin of error\n",
    "margin_of_error = critical_value * (sample_std / np.sqrt(n))"
   ]
  },
  {
   "cell_type": "code",
   "execution_count": 32,
   "id": "1c328e8e",
   "metadata": {},
   "outputs": [
    {
     "name": "stdout",
     "output_type": "stream",
     "text": [
      "Sample Mean: 167484.32\n",
      "Confidence Level: 0.95\n",
      "Critical Value: 1.96\n",
      "Margin of Error: 1468.21\n",
      "Confidence Interval: (166016.12, 168952.53)\n"
     ]
    }
   ],
   "source": [
    "#Constructing the confidence interval\n",
    "confidence_interval = (sample_mean - margin_of_error, sample_mean + margin_of_error)\n",
    "\n",
    "# Results\n",
    "print(\"Sample Mean: {:.2f}\".format(round(sample_mean.item(), 2)))\n",
    "print(\"Confidence Level: {}\".format(confidence_level))\n",
    "print(\"Critical Value: {:.2f}\".format(critical_value.item()))\n",
    "print(\"Margin of Error: {:.2f}\".format(margin_of_error.item()))\n",
    "print(\"Confidence Interval: ({:.2f}, {:.2f})\".format(confidence_interval[0], confidence_interval[1]))"
   ]
  },
  {
   "cell_type": "code",
   "execution_count": null,
   "id": "655bac6c",
   "metadata": {},
   "outputs": [],
   "source": []
  },
  {
   "cell_type": "code",
   "execution_count": null,
   "id": "dc0aab21",
   "metadata": {},
   "outputs": [],
   "source": []
  },
  {
   "cell_type": "code",
   "execution_count": null,
   "id": "f16b2c4c",
   "metadata": {},
   "outputs": [],
   "source": []
  },
  {
   "cell_type": "markdown",
   "id": "24838b3c",
   "metadata": {},
   "source": [
    "### Confidence Interval for the Proportion"
   ]
  },
  {
   "cell_type": "code",
   "execution_count": 33,
   "id": "faef2863",
   "metadata": {},
   "outputs": [],
   "source": [
    "#Setting the number of successes and sample size\n",
    "successes = df['DEF_AMT'].value_counts()[0]  # Count of '0' values in 'DEF_AMT'\n",
    "sample_size = len(df)\n",
    "\n",
    "#Calculating the sample proportion\n",
    "p = successes / sample_size"
   ]
  },
  {
   "cell_type": "code",
   "execution_count": 34,
   "id": "373e218b",
   "metadata": {},
   "outputs": [],
   "source": [
    "#Determining the desired confidence level\n",
    "confidence_level = 0.95\n",
    "\n",
    "#Finding the critical value based on the confidence level\n",
    "critical_value = stats.norm.ppf((1 + confidence_level) / 2)"
   ]
  },
  {
   "cell_type": "code",
   "execution_count": 35,
   "id": "2bc011b6",
   "metadata": {},
   "outputs": [
    {
     "name": "stdout",
     "output_type": "stream",
     "text": [
      "Confidence Interval: (0.7741032980995245, 0.7834967019004756)\n"
     ]
    }
   ],
   "source": [
    "#Calculating the standard error of the proportion\n",
    "standard_error = np.sqrt((p * (1 - p)) / sample_size)\n",
    "\n",
    "#Calculating the margin of error\n",
    "margin_of_error = critical_value * standard_error\n",
    "\n",
    "#Constructing the confidence interval\n",
    "confidence_interval = (p - margin_of_error, p + margin_of_error)\n",
    "\n",
    "#Results\n",
    "print(f\"Confidence Interval: {confidence_interval}\")"
   ]
  },
  {
   "cell_type": "markdown",
   "id": "bd2ce0b2",
   "metadata": {},
   "source": [
    "#### Insights: We can be 95% confident that the true proportion of customers who have a default payment status of '0' (no default) in the population is between 0.774 and 0.784"
   ]
  },
  {
   "cell_type": "code",
   "execution_count": null,
   "id": "50d79a32",
   "metadata": {},
   "outputs": [],
   "source": []
  },
  {
   "cell_type": "code",
   "execution_count": null,
   "id": "c59b3839",
   "metadata": {},
   "outputs": [],
   "source": []
  },
  {
   "cell_type": "code",
   "execution_count": null,
   "id": "3bc32620",
   "metadata": {},
   "outputs": [],
   "source": []
  },
  {
   "cell_type": "markdown",
   "id": "0b934e5e",
   "metadata": {},
   "source": [
    "## Task: Conduct hypothesis tests using the t-test, F-test, ANOVA-test, and Chi-Square test to identify factors that contribute to credit card defaults. You can use libraries such as scipy.stats and statsmodels to conduct these tests."
   ]
  },
  {
   "cell_type": "code",
   "execution_count": null,
   "id": "c7a24335",
   "metadata": {},
   "outputs": [],
   "source": []
  },
  {
   "cell_type": "code",
   "execution_count": null,
   "id": "eb594422",
   "metadata": {},
   "outputs": [],
   "source": []
  },
  {
   "cell_type": "markdown",
   "id": "6baad807",
   "metadata": {},
   "source": [
    "### T-test"
   ]
  },
  {
   "cell_type": "code",
   "execution_count": 36,
   "id": "9063bb0b",
   "metadata": {},
   "outputs": [
    {
     "data": {
      "text/plain": [
       "Index(['ID', 'AMT', 'GENDER', 'EDUCATION', 'MARITAL_STATUS', 'AGE',\n",
       "       'REPAY_SEP', 'REPAY_AUG', 'REPAY_JUL', 'REPAY_JUN', 'REPAY_MAY',\n",
       "       'REPAY_APR', 'AMTBILL_SEP', 'AMTBILL_AUG', 'AMTBILL_JUL', 'AMTBILL_JUN',\n",
       "       'AMTBILL_MAY', 'AMTBILL_APR', 'AMT_BILL', 'PRE_SEP', 'PRE_AUG',\n",
       "       'PRE_JUL', 'PRE_JUN', 'PRE_MAY', 'PRE_APR', 'PREV_PMT', 'DEF_AMT'],\n",
       "      dtype='object')"
      ]
     },
     "execution_count": 36,
     "metadata": {},
     "output_type": "execute_result"
    }
   ],
   "source": [
    "df.columns"
   ]
  },
  {
   "cell_type": "code",
   "execution_count": 37,
   "id": "79a9ca5e",
   "metadata": {},
   "outputs": [],
   "source": [
    "#Selecting the variable columns of interest\n",
    "var_columns = ['AMT', 'GENDER', 'EDUCATION', 'MARITAL_STATUS', 'AGE']"
   ]
  },
  {
   "cell_type": "code",
   "execution_count": 38,
   "id": "10585f9b",
   "metadata": {},
   "outputs": [],
   "source": [
    "#Splitting the dataset into defaulters and non-defaulters\n",
    "defaulters = df[df['DEF_AMT'] == 1]\n",
    "non_defaulters = df[df['DEF_AMT'] == 0]"
   ]
  },
  {
   "cell_type": "code",
   "execution_count": 39,
   "id": "621bc98d",
   "metadata": {},
   "outputs": [
    {
     "name": "stdout",
     "output_type": "stream",
     "text": [
      "Variable: AMT\n",
      "T-Statistic: -26.91\n",
      "P-Value: 0.0000\n",
      "\n",
      "There is a significant difference in means between defaulters and non-defaulters.\n",
      "-------------------------------------------\n",
      "Variable: GENDER\n",
      "T-Statistic: -6.93\n",
      "P-Value: 0.0000\n",
      "\n",
      "There is a significant difference in means between defaulters and non-defaulters.\n",
      "-------------------------------------------\n",
      "Variable: EDUCATION\n",
      "T-Statistic: 4.86\n",
      "P-Value: 0.0000\n",
      "\n",
      "There is a significant difference in means between defaulters and non-defaulters.\n",
      "-------------------------------------------\n",
      "Variable: MARITAL_STATUS\n",
      "T-Statistic: -4.63\n",
      "P-Value: 0.0000\n",
      "\n",
      "There is a significant difference in means between defaulters and non-defaulters.\n",
      "-------------------------------------------\n",
      "Variable: AGE\n",
      "T-Statistic: 2.41\n",
      "P-Value: 0.0161\n",
      "\n",
      "There is a significant difference in means between defaulters and non-defaulters.\n",
      "-------------------------------------------\n"
     ]
    }
   ],
   "source": [
    "#Performing t-tests for each variable column\n",
    "for column in var_columns:\n",
    "    t_statistic, p_value = ttest_ind(defaulters[column], non_defaulters[column])\n",
    "    print(f\"Variable: {column}\")\n",
    "    print(f\"T-Statistic: {t_statistic:.2f}\")\n",
    "    print(f\"P-Value: {p_value:.4f}\")\n",
    "    print(\"\")\n",
    "\n",
    "    if p_value < 0.05:\n",
    "        print(\"There is a significant difference in means between defaulters and non-defaulters.\")\n",
    "    else:\n",
    "        print(\"There is no significant difference in means between defaulters and non-defaulters.\")\n",
    "\n",
    "    print(\"-------------------------------------------\")"
   ]
  },
  {
   "cell_type": "markdown",
   "id": "b1871b4b",
   "metadata": {},
   "source": [
    "### Insights:\n",
    "\n",
    "#### - Regardless the means being significant for all the variables, Age will be dropped as p-value is \n",
    "#### - Variable \"AMT\" had the highest T-stat score, hence it seems that amount of loan offered can influence significantly whether the customer will default or not"
   ]
  },
  {
   "cell_type": "code",
   "execution_count": null,
   "id": "46a352c5",
   "metadata": {},
   "outputs": [],
   "source": []
  },
  {
   "cell_type": "code",
   "execution_count": null,
   "id": "1e31f0d5",
   "metadata": {},
   "outputs": [],
   "source": []
  },
  {
   "cell_type": "markdown",
   "id": "c00faec3",
   "metadata": {},
   "source": [
    "### F-test (ANOVA)"
   ]
  },
  {
   "cell_type": "markdown",
   "id": "083d7b20",
   "metadata": {},
   "source": [
    "#### Defaulting males vs Non-defaulting males"
   ]
  },
  {
   "cell_type": "code",
   "execution_count": 40,
   "id": "9c2f65e3",
   "metadata": {},
   "outputs": [],
   "source": [
    "#Splitting the data based on the groups defined by each variable within defaulters\n",
    "group1 = defaulters[defaulters['GENDER'] == 1]['AMT']\n",
    "group2 = non_defaulters[non_defaulters['GENDER'] == 1]['AMT']"
   ]
  },
  {
   "cell_type": "code",
   "execution_count": 41,
   "id": "f95edbe2",
   "metadata": {
    "scrolled": true
   },
   "outputs": [
    {
     "name": "stdout",
     "output_type": "stream",
     "text": [
      "There are significant differences in means among the groups\n",
      "ANOVA Test Results:\n",
      "F-Statistic: 296.0666431167774\n",
      "P-Value: 1.471338972818424e-65\n"
     ]
    }
   ],
   "source": [
    "#Performing the ANOVA test\n",
    "f_statistic, p_value = f_oneway(group1, group2)\n",
    "\n",
    "#Interpret the results\n",
    "if p_value < 0.05:\n",
    "    print(\"There are significant differences in means among the groups\")\n",
    "else:\n",
    "    print(\"There is not enough evidence to suggest significant differences in means among the groups.\")\n",
    "    \n",
    "#ANOVA test results\n",
    "print(\"ANOVA Test Results:\")\n",
    "print(f\"F-Statistic: {f_statistic}\")\n",
    "print(f\"P-Value: {p_value}\")"
   ]
  },
  {
   "cell_type": "code",
   "execution_count": null,
   "id": "191cbca5",
   "metadata": {},
   "outputs": [],
   "source": []
  },
  {
   "cell_type": "code",
   "execution_count": null,
   "id": "912d5d96",
   "metadata": {},
   "outputs": [],
   "source": []
  },
  {
   "cell_type": "markdown",
   "id": "dab4f11d",
   "metadata": {},
   "source": [
    "#### Defaulting females vs Non-defaulting females"
   ]
  },
  {
   "cell_type": "code",
   "execution_count": 42,
   "id": "ef95a0a3",
   "metadata": {},
   "outputs": [],
   "source": [
    "#Splitting the data based on the groups defined by each variable within defaulters\n",
    "group1 = defaulters[defaulters['GENDER'] == 2]['AMT']\n",
    "group2 = non_defaulters[non_defaulters['GENDER'] == 2]['AMT']"
   ]
  },
  {
   "cell_type": "code",
   "execution_count": 43,
   "id": "ac1cb5fa",
   "metadata": {
    "scrolled": true
   },
   "outputs": [
    {
     "name": "stdout",
     "output_type": "stream",
     "text": [
      "There are significant differences in means among the groups.\n",
      "ANOVA Test Results:\n",
      "F-Statistic: 418.68482736481513\n",
      "P-Value: 5.172387751558438e-92\n"
     ]
    }
   ],
   "source": [
    "#Performing the ANOVA test\n",
    "f_statistic, p_value = f_oneway(group1, group2)\n",
    "\n",
    "#Interpret the results\n",
    "if p_value < 0.05:\n",
    "    print(\"There are significant differences in means among the groups.\")\n",
    "else:\n",
    "    print(\"There is not enough evidence to suggest significant differences in means among the groups.\")\n",
    "    \n",
    "#ANOVA test results\n",
    "print(\"ANOVA Test Results:\")\n",
    "print(f\"F-Statistic: {f_statistic}\")\n",
    "print(f\"P-Value: {p_value}\")"
   ]
  },
  {
   "cell_type": "code",
   "execution_count": null,
   "id": "5eddaf55",
   "metadata": {},
   "outputs": [],
   "source": []
  },
  {
   "cell_type": "code",
   "execution_count": 44,
   "id": "efd9c3ba",
   "metadata": {},
   "outputs": [
    {
     "data": {
      "text/plain": [
       "2    3763\n",
       "1    2873\n",
       "Name: GENDER, dtype: int64"
      ]
     },
     "execution_count": 44,
     "metadata": {},
     "output_type": "execute_result"
    }
   ],
   "source": [
    "defaulters['GENDER'].value_counts()"
   ]
  },
  {
   "cell_type": "code",
   "execution_count": null,
   "id": "8316f03a",
   "metadata": {},
   "outputs": [],
   "source": []
  },
  {
   "cell_type": "code",
   "execution_count": 45,
   "id": "e32199b0",
   "metadata": {
    "scrolled": true
   },
   "outputs": [
    {
     "name": "stdout",
     "output_type": "stream",
     "text": [
      "Defaulting feales:  133327.13260696252\n",
      "Defaulting males:  125895.46815175774\n"
     ]
    }
   ],
   "source": [
    "print(\"Defaulting feales: \",defaulters[defaulters['GENDER'] == 2]['AMT'].mean())\n",
    "print(\"Defaulting males: \",defaulters[defaulters['GENDER'] == 1]['AMT'].mean())"
   ]
  },
  {
   "cell_type": "code",
   "execution_count": null,
   "id": "8be7dbd3",
   "metadata": {},
   "outputs": [],
   "source": []
  },
  {
   "cell_type": "markdown",
   "id": "6046d960",
   "metadata": {},
   "source": [
    "### Insights:\n",
    "\n",
    "#### While it can be seen that the mean of the amount between the defaulters and non-defaulters is obviously significant, we can see that majority of the females have come under the defaulting category. \n",
    "\n",
    "#### ANOVA test showed that there is a massive difference between the amount of difference of credit offered to females who defaulted vs who didn't default AND males who defaulted who didn't default\n",
    "\n",
    "#####\n",
    "### From this analysis we can conclude that the company needs to lower down the credit line offered towards females"
   ]
  },
  {
   "cell_type": "code",
   "execution_count": null,
   "id": "e220b3e6",
   "metadata": {},
   "outputs": [],
   "source": []
  },
  {
   "cell_type": "code",
   "execution_count": null,
   "id": "262d87bf",
   "metadata": {},
   "outputs": [],
   "source": []
  },
  {
   "cell_type": "code",
   "execution_count": null,
   "id": "e8658f1f",
   "metadata": {},
   "outputs": [],
   "source": []
  },
  {
   "cell_type": "markdown",
   "id": "c82f16fb",
   "metadata": {},
   "source": [
    "#### Defaulting School Graduates vs Non-defaulting School Graduates"
   ]
  },
  {
   "cell_type": "code",
   "execution_count": 46,
   "id": "ad724180",
   "metadata": {},
   "outputs": [],
   "source": [
    "#Splitting the data based on the groups defined by each variable within defaulters\n",
    "group1 = defaulters[defaulters['EDUCATION'] == 1]['AMT']\n",
    "group2 = non_defaulters[non_defaulters['EDUCATION'] == 1]['AMT']"
   ]
  },
  {
   "cell_type": "code",
   "execution_count": 47,
   "id": "9fbdd6f8",
   "metadata": {
    "scrolled": true
   },
   "outputs": [
    {
     "name": "stdout",
     "output_type": "stream",
     "text": [
      "There are significant differences in means among the groups\n",
      "ANOVA Test Results:\n",
      "F-Statistic: 168.18395791707007\n",
      "P-Value: 3.600705053141425e-38\n"
     ]
    }
   ],
   "source": [
    "#Performing the ANOVA test\n",
    "f_statistic, p_value = f_oneway(group1, group2)\n",
    "\n",
    "#Interpret the results\n",
    "if p_value < 0.05:\n",
    "    print(\"There are significant differences in means among the groups\")\n",
    "else:\n",
    "    print(\"There is not enough evidence to suggest significant differences in means among the groups.\")\n",
    "    \n",
    "#ANOVA test results\n",
    "print(\"ANOVA Test Results:\")\n",
    "print(f\"F-Statistic: {f_statistic}\")\n",
    "print(f\"P-Value: {p_value}\")"
   ]
  },
  {
   "cell_type": "code",
   "execution_count": null,
   "id": "4cfaeee1",
   "metadata": {},
   "outputs": [],
   "source": []
  },
  {
   "cell_type": "code",
   "execution_count": null,
   "id": "1d059051",
   "metadata": {},
   "outputs": [],
   "source": []
  },
  {
   "cell_type": "markdown",
   "id": "1031eda6",
   "metadata": {},
   "source": [
    "#### Defaulting University Graduates vs Non-defaulting University Graduates"
   ]
  },
  {
   "cell_type": "code",
   "execution_count": 48,
   "id": "41de6abb",
   "metadata": {},
   "outputs": [],
   "source": [
    "#Splitting the data based on the groups defined by each variable within defaulters\n",
    "group1 = defaulters[defaulters['EDUCATION'] == 2]['AMT']\n",
    "group2 = non_defaulters[non_defaulters['EDUCATION'] == 2]['AMT']"
   ]
  },
  {
   "cell_type": "code",
   "execution_count": 49,
   "id": "903576ab",
   "metadata": {
    "scrolled": true
   },
   "outputs": [
    {
     "name": "stdout",
     "output_type": "stream",
     "text": [
      "There are significant differences in means among the groups.\n",
      "ANOVA Test Results:\n",
      "F-Statistic: 367.0162489125193\n",
      "P-Value: 8.936504763064408e-81\n"
     ]
    }
   ],
   "source": [
    "#Performing the ANOVA test\n",
    "f_statistic, p_value = f_oneway(group1, group2)\n",
    "\n",
    "#Interpret the results\n",
    "if p_value < 0.05:\n",
    "    print(\"There are significant differences in means among the groups.\")\n",
    "else:\n",
    "    print(\"There is not enough evidence to suggest significant differences in means among the groups.\")\n",
    "    \n",
    "#ANOVA test results\n",
    "print(\"ANOVA Test Results:\")\n",
    "print(f\"F-Statistic: {f_statistic}\")\n",
    "print(f\"P-Value: {p_value}\")"
   ]
  },
  {
   "cell_type": "code",
   "execution_count": null,
   "id": "e77ecc8d",
   "metadata": {},
   "outputs": [],
   "source": []
  },
  {
   "cell_type": "markdown",
   "id": "de507908",
   "metadata": {},
   "source": [
    "#### Defaulting High-school Graduates vs Non-defaulting High-school Graduates"
   ]
  },
  {
   "cell_type": "code",
   "execution_count": 50,
   "id": "85565bd1",
   "metadata": {},
   "outputs": [],
   "source": [
    "#Splitting the data based on the groups defined by each variable within defaulters\n",
    "group1 = defaulters[defaulters['EDUCATION'] == 3]['AMT']\n",
    "group2 = non_defaulters[non_defaulters['EDUCATION'] == 3]['AMT']"
   ]
  },
  {
   "cell_type": "code",
   "execution_count": 51,
   "id": "5231350a",
   "metadata": {
    "scrolled": true
   },
   "outputs": [
    {
     "name": "stdout",
     "output_type": "stream",
     "text": [
      "There are significant differences in means among the groups.\n",
      "ANOVA Test Results:\n",
      "F-Statistic: 105.72195856295967\n",
      "P-Value: 1.5018719236844852e-24\n"
     ]
    }
   ],
   "source": [
    "#Performing the ANOVA test\n",
    "f_statistic, p_value = f_oneway(group1, group2)\n",
    "\n",
    "#Interpret the results\n",
    "if p_value < 0.05:\n",
    "    print(\"There are significant differences in means among the groups.\")\n",
    "else:\n",
    "    print(\"There is not enough evidence to suggest significant differences in means among the groups.\")\n",
    "    \n",
    "#ANOVA test results\n",
    "print(\"ANOVA Test Results:\")\n",
    "print(f\"F-Statistic: {f_statistic}\")\n",
    "print(f\"P-Value: {p_value}\")"
   ]
  },
  {
   "cell_type": "code",
   "execution_count": null,
   "id": "d04ec44c",
   "metadata": {},
   "outputs": [],
   "source": []
  },
  {
   "cell_type": "code",
   "execution_count": null,
   "id": "180c2c04",
   "metadata": {},
   "outputs": [],
   "source": []
  },
  {
   "cell_type": "code",
   "execution_count": 52,
   "id": "521ea5ec",
   "metadata": {
    "scrolled": true
   },
   "outputs": [
    {
     "data": {
      "text/plain": [
       "2    3330\n",
       "1    2036\n",
       "3    1237\n",
       "5      26\n",
       "4       7\n",
       "Name: EDUCATION, dtype: int64"
      ]
     },
     "execution_count": 52,
     "metadata": {},
     "output_type": "execute_result"
    }
   ],
   "source": [
    "defaulters['EDUCATION'].value_counts()"
   ]
  },
  {
   "cell_type": "code",
   "execution_count": null,
   "id": "72cafeb1",
   "metadata": {},
   "outputs": [],
   "source": []
  },
  {
   "cell_type": "markdown",
   "id": "0334fec7",
   "metadata": {},
   "source": [
    "### Insights:\n",
    "\n",
    "#### While it is obvious that the p-value will be high between defaulters and non-defaulters, it seems that company has offered a high line of credit towards school graduates even though they occupy the second largest population in the defaulter category when looked at educational level\n",
    "######\n",
    "### From this analysis we can conclude that the company needs to lower down the credit line offered school graduates immediately and look to revisit their policy towards University Graduates."
   ]
  },
  {
   "cell_type": "code",
   "execution_count": null,
   "id": "8827a388",
   "metadata": {},
   "outputs": [],
   "source": []
  },
  {
   "cell_type": "code",
   "execution_count": null,
   "id": "d55ca9eb",
   "metadata": {},
   "outputs": [],
   "source": []
  },
  {
   "cell_type": "code",
   "execution_count": null,
   "id": "c6624928",
   "metadata": {},
   "outputs": [],
   "source": []
  },
  {
   "cell_type": "markdown",
   "id": "8ac5c9f2",
   "metadata": {},
   "source": [
    "### Chi-Squared Test"
   ]
  },
  {
   "cell_type": "code",
   "execution_count": 53,
   "id": "9ccca31d",
   "metadata": {},
   "outputs": [],
   "source": [
    "#Creating contingency tables\n",
    "gender_defamt_table = pd.crosstab(df['GENDER'], df['DEF_AMT'])\n",
    "education_defamt_table = pd.crosstab(df['EDUCATION'], df['DEF_AMT'])\n",
    "marital_defamt_table = pd.crosstab(df['MARITAL_STATUS'], df['DEF_AMT'])\n",
    "age_defamt_table = pd.crosstab(df['AGE'], df['DEF_AMT'])"
   ]
  },
  {
   "cell_type": "code",
   "execution_count": 54,
   "id": "6e3f7839",
   "metadata": {},
   "outputs": [],
   "source": [
    "#Performing Chi-Square tests\n",
    "gender_chi2, gender_p_value, _, _ = stats.chi2_contingency(gender_defamt_table)\n",
    "education_chi2, education_p_value, _, _ = stats.chi2_contingency(education_defamt_table)\n",
    "marital_chi2, marital_p_value, _, _ = stats.chi2_contingency(marital_defamt_table)\n",
    "age_chi2, age_p_value, _, _ = stats.chi2_contingency(age_defamt_table)"
   ]
  },
  {
   "cell_type": "code",
   "execution_count": 56,
   "id": "40b45e06",
   "metadata": {
    "scrolled": true
   },
   "outputs": [
    {
     "name": "stdout",
     "output_type": "stream",
     "text": [
      "Chi-Square Test Results:\n",
      "Variable: GENDER\n",
      "Chi-Square Statistic: 47.70879689062111\n",
      "P-Value: 4.944678999412044e-12\n",
      "\n",
      "Variable: EDUCATION\n",
      "Chi-Square Statistic: 156.49664507553865\n",
      "P-Value: 8.244709952928782e-33\n",
      "\n",
      "Variable: MARITAL_STATUS\n",
      "Chi-Square Statistic: 29.493573626551015\n",
      "P-Value: 3.9405048029650717e-07\n",
      "\n",
      "Variable: AGE\n",
      "Chi-Square Statistic: 158.55290013282718\n",
      "P-Value: 5.6429915495725416e-12\n"
     ]
    }
   ],
   "source": [
    "#Results\n",
    "print(\"Chi-Square Test Results:\")\n",
    "print(\"Variable: GENDER\")\n",
    "print(\"Chi-Square Statistic:\", gender_chi2)\n",
    "print(\"P-Value:\", gender_p_value)\n",
    "print()\n",
    "print(\"Variable: EDUCATION\")\n",
    "print(\"Chi-Square Statistic:\", education_chi2)\n",
    "print(\"P-Value:\", education_p_value)\n",
    "print()\n",
    "print(\"Variable: MARITAL_STATUS\")\n",
    "print(\"Chi-Square Statistic:\", marital_chi2)\n",
    "print(\"P-Value:\", marital_p_value)\n",
    "print()\n",
    "print(\"Variable: AGE\")\n",
    "print(\"Chi-Square Statistic:\", age_chi2)\n",
    "print(\"P-Value:\", age_p_value)\n"
   ]
  },
  {
   "cell_type": "code",
   "execution_count": null,
   "id": "0d78ce60",
   "metadata": {},
   "outputs": [],
   "source": []
  },
  {
   "cell_type": "markdown",
   "id": "85e1c983",
   "metadata": {},
   "source": [
    "### Insights:\n",
    "\n",
    "\n",
    "### From this analysis we can conclude that the Education and Age are the most influential variables when it comes to credit card defaults"
   ]
  },
  {
   "cell_type": "code",
   "execution_count": null,
   "id": "532c6999",
   "metadata": {},
   "outputs": [],
   "source": []
  },
  {
   "cell_type": "code",
   "execution_count": null,
   "id": "c57113d7",
   "metadata": {},
   "outputs": [],
   "source": []
  },
  {
   "cell_type": "code",
   "execution_count": null,
   "id": "49c0568b",
   "metadata": {},
   "outputs": [],
   "source": []
  },
  {
   "cell_type": "markdown",
   "id": "ad40c8a9",
   "metadata": {},
   "source": [
    "### Furthermore..."
   ]
  },
  {
   "cell_type": "code",
   "execution_count": 67,
   "id": "48be70a2",
   "metadata": {},
   "outputs": [
    {
     "name": "stdout",
     "output_type": "stream",
     "text": [
      "Top 5 Education Levels and Age Bins with the Highest Default Rates:\n",
      "DEF_AMT               0    1  All  Default_Rate\n",
      "EDUCATION Age_Bin                              \n",
      "2         [60, 70)   63   35   98      0.357143\n",
      "3         [70, 80)    8    4   12      0.333333\n",
      "          [20, 30)  688  261  949      0.275026\n",
      "1         [60, 70)   61   23   84      0.273810\n",
      "3         [50, 60)  656  234  890      0.262921\n"
     ]
    }
   ],
   "source": [
    "# Create age bins with a width of 10\n",
    "df['Age_Bin'] = pd.cut(df['AGE'], bins=range(0, 100, 10), right=False)\n",
    "\n",
    "# Create a cross-tabulation table between 'EDUCATION', 'Age_Bin', and 'DEF_AMT'\n",
    "education_agebin_defamt_table = pd.crosstab([df['EDUCATION'], df['Age_Bin']], df['DEF_AMT'], margins=True)\n",
    "\n",
    "# Calculate the default rate as the sum of defaults within each education level and age bin\n",
    "education_agebin_defamt_table['Default_Rate'] = education_agebin_defamt_table[1] / education_agebin_defamt_table['All']\n",
    "\n",
    "# Sort the table by default rate in descending order\n",
    "sorted_table = education_agebin_defamt_table.sort_values('Default_Rate', ascending=False)\n",
    "\n",
    "# Get the top 5 education levels and age bins with the highest default rates\n",
    "top_5_default_rates = sorted_table.head(5)\n",
    "\n",
    "# Print the result\n",
    "print(\"Top 5 Education Levels and Age Bins with the Highest Default Rates:\")\n",
    "print(top_5_default_rates)"
   ]
  },
  {
   "cell_type": "markdown",
   "id": "95084344",
   "metadata": {},
   "source": [
    "### From this output we can easily conclude that the customers that the company needs to be highly critical of are university gradutes who are the age of seniority (between 60 to 70)."
   ]
  },
  {
   "cell_type": "code",
   "execution_count": null,
   "id": "00ee241f",
   "metadata": {},
   "outputs": [],
   "source": []
  }
 ],
 "metadata": {
  "kernelspec": {
   "display_name": "Python 3 (ipykernel)",
   "language": "python",
   "name": "python3"
  },
  "language_info": {
   "codemirror_mode": {
    "name": "ipython",
    "version": 3
   },
   "file_extension": ".py",
   "mimetype": "text/x-python",
   "name": "python",
   "nbconvert_exporter": "python",
   "pygments_lexer": "ipython3",
   "version": "3.9.19"
  }
 },
 "nbformat": 4,
 "nbformat_minor": 5
}
